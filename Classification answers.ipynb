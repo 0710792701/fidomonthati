{
 "cells": [
  {
   "cell_type": "code",
   "execution_count": 1,
   "id": "8473c4f6",
   "metadata": {},
   "outputs": [
    {
     "name": "stdout",
     "output_type": "stream",
     "text": [
      "   age     sex     bmi  steps  children smoker     region insurance_claim  \\\n",
      "0   19  female  27.900   3009         0    yes  southwest             yes   \n",
      "1   18    male  33.770   3008         1     no  southeast             yes   \n",
      "2   28    male  33.000   3009         3     no  southeast              no   \n",
      "3   33    male  22.705  10009         0     no  northwest              no   \n",
      "4   32    male  28.880   8010         0     no  northwest             yes   \n",
      "\n",
      "   claim_amount  \n",
      "0    16884.9240  \n",
      "1     1725.5523  \n",
      "2        0.0000  \n",
      "3        0.0000  \n",
      "4     3866.8552  \n"
     ]
    }
   ],
   "source": [
    "import pandas as pd\n",
    "\n",
    "# Load the dataset\n",
    "file_path = 'claims_data.csv'\n",
    "df = pd.read_csv(file_path)\n",
    "\n",
    "# Display the first few rows of the dataset to check the column names\n",
    "print(df.head())"
   ]
  },
  {
   "cell_type": "code",
   "execution_count": 2,
   "id": "7b5460c2",
   "metadata": {},
   "outputs": [
    {
     "name": "stdout",
     "output_type": "stream",
     "text": [
      "Index(['age', 'sex', 'bmi', 'steps', 'children', 'smoker', 'region',\n",
      "       'insurance_claim', 'claim_amount'],\n",
      "      dtype='object')\n"
     ]
    }
   ],
   "source": [
    "import pandas as pd\n",
    "\n",
    "# Load the dataset\n",
    "file_path = 'claims_data.csv'\n",
    "df = pd.read_csv(file_path)\n",
    "\n",
    "# Display the column names\n",
    "print(df.columns)"
   ]
  },
  {
   "cell_type": "code",
   "execution_count": 3,
   "id": "f2dd194f",
   "metadata": {},
   "outputs": [
    {
     "data": {
      "text/plain": [
       "0.8153961136023916"
      ]
     },
     "execution_count": 3,
     "metadata": {},
     "output_type": "execute_result"
    }
   ],
   "source": [
    "# Assuming the correct column name is identified as 'BMI'\n",
    "overweight_or_obese = df[df['bmi'] > 25]\n",
    "\n",
    "# Calculate the proportion\n",
    "proportion_overweight_or_obese = len(overweight_or_obese) / len(df)\n",
    "\n",
    "proportion_overweight_or_obese"
   ]
  },
  {
   "cell_type": "code",
   "execution_count": 4,
   "id": "d3c2e2f2",
   "metadata": {},
   "outputs": [
    {
     "data": {
      "text/plain": [
       "(1.0949177877429, 1.453212745666905)"
      ]
     },
     "execution_count": 4,
     "metadata": {},
     "output_type": "execute_result"
    }
   ],
   "source": [
    "import pandas as pd\n",
    "\n",
    "# Load the dataset\n",
    "file_path = 'claims_data.csv'\n",
    "df = pd.read_csv(file_path)\n",
    "\n",
    "# Assuming the column name for the number of children is 'Children'\n",
    "# Calculate mean and variance\n",
    "mean_children = df['children'].mean()\n",
    "variance_children = df['children'].var()\n",
    "\n",
    "mean_children, variance_children"
   ]
  },
  {
   "cell_type": "code",
   "execution_count": 5,
   "id": "06b4e82b",
   "metadata": {},
   "outputs": [
    {
     "name": "stdout",
     "output_type": "stream",
     "text": [
      "Index(['age', 'sex', 'bmi', 'steps', 'children', 'smoker', 'region',\n",
      "       'insurance_claim', 'claim_amount'],\n",
      "      dtype='object')\n",
      "Mean: 1.0949177877429, Variance: 1.453212745666905\n"
     ]
    },
    {
     "data": {
      "text/plain": [
       "(155.6298281799268, 8.447237786020649e-32)"
      ]
     },
     "execution_count": 5,
     "metadata": {},
     "output_type": "execute_result"
    }
   ],
   "source": [
    "import pandas as pd\n",
    "from scipy.stats import poisson, chisquare\n",
    "\n",
    "# Load the dataset\n",
    "file_path = 'claims_data.csv'\n",
    "df = pd.read_csv(file_path)\n",
    "\n",
    "# Check the column names and ensure the correct column name for children\n",
    "print(df.columns)\n",
    "\n",
    "# Calculate the observed frequencies\n",
    "observed_frequencies = df['children'].value_counts().sort_index()\n",
    "\n",
    "# Calculate mean and variance\n",
    "mean_children = df['children'].mean()\n",
    "variance_children = df['children'].var()\n",
    "\n",
    "print(f\"Mean: {mean_children}, Variance: {variance_children}\")\n",
    "\n",
    "# Calculate the expected frequencies using the Poisson distribution\n",
    "expected_frequencies = [poisson.pmf(k, mean_children) * len(df) for k in observed_frequencies.index]\n",
    "\n",
    "# Normalize the expected frequencies\n",
    "expected_frequencies = expected_frequencies / sum(expected_frequencies) * sum(observed_frequencies)\n",
    "\n",
    "# Perform the Chi-square goodness-of-fit test\n",
    "chi_square_stat, p_value = chisquare(f_obs=observed_frequencies, f_exp=expected_frequencies)\n",
    "\n",
    "chi_square_stat, p_value"
   ]
  },
  {
   "cell_type": "code",
   "execution_count": 6,
   "id": "e7720515",
   "metadata": {},
   "outputs": [
    {
     "data": {
      "text/plain": [
       "(39.20702541106129, 14.049960379216154)"
      ]
     },
     "execution_count": 6,
     "metadata": {},
     "output_type": "execute_result"
    }
   ],
   "source": [
    "import pandas as pd\n",
    "\n",
    "# Load the dataset\n",
    "file_path = 'claims_data.csv'\n",
    "df = pd.read_csv(file_path)\n",
    "\n",
    "# Calculate mean and standard deviation of age\n",
    "mean_age = df['age'].mean()\n",
    "std_age = df['age'].std()\n",
    "\n",
    "mean_age, std_age"
   ]
  },
  {
   "cell_type": "code",
   "execution_count": 7,
   "id": "162b1d94",
   "metadata": {},
   "outputs": [],
   "source": [
    "from scipy.stats import norm\n",
    "\n",
    "# Calculate the z-score for age 60\n",
    "z_score = (60 - mean_age) / std_age\n",
    "\n",
    "# Find the probability of being 60 or older\n",
    "prob_60_or_older = 1 - norm.cdf(z_score)"
   ]
  },
  {
   "cell_type": "code",
   "execution_count": 8,
   "id": "3aa6294f",
   "metadata": {},
   "outputs": [],
   "source": [
    "# Calculate the expected number of individuals aged 60 or older\n",
    "expected_number_60_or_older = prob_60_or_older * len(df)\n"
   ]
  },
  {
   "cell_type": "code",
   "execution_count": 9,
   "id": "9ee1417a",
   "metadata": {},
   "outputs": [
    {
     "data": {
      "text/plain": [
       "21"
      ]
     },
     "execution_count": 9,
     "metadata": {},
     "output_type": "execute_result"
    }
   ],
   "source": [
    "# Calculate the actual number of individuals aged 60 or older\n",
    "actual_number_60_or_older = (df['age'] >= 60).sum()\n",
    "\n",
    "# Compare the expected and actual numbers\n",
    "difference = actual_number_60_or_older - round(expected_number_60_or_older)\n",
    "difference"
   ]
  },
  {
   "cell_type": "code",
   "execution_count": 10,
   "id": "49f56d69",
   "metadata": {},
   "outputs": [
    {
     "data": {
      "image/png": "[encoded data removed]",
      "text/plain": [
       "<Figure size 600x600 with 3 Axes>"
      ]
     },
     "metadata": {},
     "output_type": "display_data"
    }
   ],
   "source": [
    "import pandas as pd\n",
    "import seaborn as sns\n",
    "import matplotlib.pyplot as plt\n",
    "\n",
    "# Load the dataset\n",
    "file_path = 'claims_data.csv'\n",
    "df = pd.read_csv(file_path)\n",
    "\n",
    "# Create a joint plot of age and BMI\n",
    "sns.jointplot(data=df, x='age', y='bmi', kind='scatter')\n",
    "\n",
    "# Display the plot\n",
    "plt.show()\n"
   ]
  },
  {
   "cell_type": "code",
   "execution_count": 12,
   "id": "3edefc80",
   "metadata": {},
   "outputs": [
    {
     "name": "stderr",
     "output_type": "stream",
     "text": [
      "C:\\Users\\Onthatile\\AppData\\Local\\Programs\\Python\\Python311\\Lib\\site-packages\\sklearn\\linear_model\\_logistic.py:469: ConvergenceWarning: lbfgs failed to converge (status=1):\n",
      "STOP: TOTAL NO. of ITERATIONS REACHED LIMIT.\n",
      "\n",
      "Increase the number of iterations (max_iter) or scale the data as shown in:\n",
      "    https://scikit-learn.org/stable/modules/preprocessing.html\n",
      "Please also refer to the documentation for alternative solver options:\n",
      "    https://scikit-learn.org/stable/modules/linear_model.html#logistic-regression\n",
      "  n_iter_i = _check_optimize_result(\n"
     ]
    },
    {
     "data": {
      "text/plain": [
       "87.78280542986425"
      ]
     },
     "execution_count": 12,
     "metadata": {},
     "output_type": "execute_result"
    }
   ],
   "source": [
    "import pandas as pd\n",
    "from sklearn.model_selection import train_test_split\n",
    "from sklearn.linear_model import LogisticRegression\n",
    "from sklearn.metrics import accuracy_score\n",
    "\n",
    "# Load the dataset\n",
    "file_path = 'claims_data.csv'\n",
    "claims_df = pd.read_csv(file_path)\n",
    "\n",
    "# Convert 'yes' to 1 and 'no' to 0 in the insurance_claim column\n",
    "claims_df['insurance_claim'] = claims_df['insurance_claim'].apply(lambda x: 1 if x.lower() == 'yes' else 0)\n",
    "\n",
    "# Drop the 'claim_amount' column\n",
    "df_prepared = claims_df.drop(columns=['claim_amount'])\n",
    "\n",
    "# Create dummy variables for categorical variables, dropping the first in each instance\n",
    "df_prepared = pd.get_dummies(df_prepared, drop_first=True)\n",
    "\n",
    "# Split the data into features (X) and target (y)\n",
    "X = df_prepared.drop(columns=['insurance_claim'])\n",
    "y = df_prepared['insurance_claim']\n",
    "\n",
    "# Create a test-train split holding out 33% of the data for the test set, using a random seed of 42\n",
    "X_train, X_test, y_train, y_test = train_test_split(X, y, test_size=0.33, random_state=42)\n",
    "\n",
    "# Fit a logistic regression model to the data\n",
    "log_reg = LogisticRegression(max_iter=1000)\n",
    "log_reg.fit(X_train, y_train)\n",
    "\n",
    "# Predict the target variable for the test set\n",
    "y_pred = log_reg.predict(X_test)\n",
    "\n",
    "# Calculate the proportion of correctly predicted claim indicators in the test set\n",
    "accuracy = accuracy_score(y_test, y_pred)\n",
    "accuracy_percentage = accuracy * 100\n",
    "\n",
    "accuracy_percentage"
   ]
  },
  {
   "cell_type": "code",
   "execution_count": 14,
   "id": "da30463a",
   "metadata": {},
   "outputs": [
    {
     "name": "stdout",
     "output_type": "stream",
     "text": [
      "Optimization terminated successfully.\n",
      "         Current function value: 0.368829\n",
      "         Iterations 8\n",
      "const               7.624415e-12\n",
      "age                 3.543203e-06\n",
      "bmi                 5.679568e-19\n",
      "steps               1.623967e-01\n",
      "children            4.835893e-33\n",
      "sex_male            8.695873e-01\n",
      "smoker_yes          4.792811e-24\n",
      "region_northwest    4.962898e-02\n",
      "region_southeast    1.043058e-01\n",
      "region_southwest    1.070444e-01\n",
      "dtype: float64\n",
      "Significant predictors:\n",
      "const               7.624415e-12\n",
      "age                 3.543203e-06\n",
      "bmi                 5.679568e-19\n",
      "children            4.835893e-33\n",
      "smoker_yes          4.792811e-24\n",
      "region_northwest    4.962898e-02\n",
      "dtype: float64\n"
     ]
    }
   ],
   "source": [
    "import statsmodels.api as sm\n",
    "\n",
    "# Add a constant to the X matrices for both train and test sets\n",
    "X_train_sm = sm.add_constant(X_train)\n",
    "X_test_sm = sm.add_constant(X_test)\n",
    "\n",
    "# Fit a logistic regression model using statsmodels\n",
    "log_reg_sm = sm.Logit(y_train, X_train_sm).fit()\n",
    "\n",
    "# Extract p-values from the model summary\n",
    "p_values = log_reg_sm.pvalues\n",
    "\n",
    "# Display the p-values\n",
    "print(p_values)\n",
    "\n",
    "# Determine which predictors are statistically significant\n",
    "significant_predictors = p_values[p_values < 0.05]\n",
    "print(\"Significant predictors:\")\n",
    "print(significant_predictors)"
   ]
  },
  {
   "cell_type": "code",
   "execution_count": 15,
   "id": "bc23a1d6",
   "metadata": {},
   "outputs": [
    {
     "data": {
      "text/plain": [
       "array([[176,   5],\n",
       "       [  8, 253]], dtype=int64)"
      ]
     },
     "execution_count": 15,
     "metadata": {},
     "output_type": "execute_result"
    }
   ],
   "source": [
    "from sklearn.ensemble import RandomForestClassifier\n",
    "from sklearn.metrics import confusion_matrix\n",
    "\n",
    "# Fit a random forest with 100 trees and a random seed of 101\n",
    "rf_model = RandomForestClassifier(n_estimators=100, random_state=101)\n",
    "rf_model.fit(X_train, y_train)\n",
    "\n",
    "# Predict the target variable for the test set\n",
    "y_pred_rf = rf_model.predict(X_test)\n",
    "\n",
    "# Compute the confusion matrix\n",
    "conf_matrix = confusion_matrix(y_test, y_pred_rf)\n",
    "conf_matrix\n"
   ]
  },
  {
   "cell_type": "code",
   "execution_count": 16,
   "id": "6dba8b4d",
   "metadata": {},
   "outputs": [
    {
     "name": "stdout",
     "output_type": "stream",
     "text": [
      "Radial Kernel Accuracy: 0.6968325791855203\n",
      "Sigmoid Kernel Accuracy: 0.6968325791855203\n",
      "Linear Kernel Accuracy: 0.8484162895927602\n"
     ]
    }
   ],
   "source": [
    "from sklearn.svm import SVC\n",
    "from sklearn.metrics import accuracy_score\n",
    "\n",
    "# Fit SVM with radial kernel\n",
    "svm_radial = SVC(kernel='rbf')\n",
    "svm_radial.fit(X_train, y_train)\n",
    "y_pred_radial = svm_radial.predict(X_test)\n",
    "accuracy_radial = accuracy_score(y_test, y_pred_radial)\n",
    "\n",
    "# Fit SVM with sigmoid kernel\n",
    "svm_sigmoid = SVC(kernel='sigmoid')\n",
    "svm_sigmoid.fit(X_train, y_train)\n",
    "y_pred_sigmoid = svm_sigmoid.predict(X_test)\n",
    "accuracy_sigmoid = accuracy_score(y_test, y_pred_sigmoid)\n",
    "\n",
    "# Fit SVM with linear kernel\n",
    "svm_linear = SVC(kernel='linear')\n",
    "svm_linear.fit(X_train, y_train)\n",
    "y_pred_linear = svm_linear.predict(X_test)\n",
    "accuracy_linear = accuracy_score(y_test, y_pred_linear)\n",
    "\n",
    "print(f\"Radial Kernel Accuracy: {accuracy_radial}\")\n",
    "print(f\"Sigmoid Kernel Accuracy: {accuracy_sigmoid}\")\n",
    "print(f\"Linear Kernel Accuracy: {accuracy_linear}\")\n"
   ]
  },
  {
   "cell_type": "code",
   "execution_count": 17,
   "id": "8763720a",
   "metadata": {},
   "outputs": [
    {
     "name": "stdout",
     "output_type": "stream",
     "text": [
      "Radial Kernel Accuracy: 0.6968325791855203\n",
      "Sigmoid Kernel Accuracy: 0.6968325791855203\n",
      "Linear Kernel Accuracy: 0.8484162895927602\n"
     ]
    }
   ],
   "source": [
    "from sklearn.svm import SVC\n",
    "from sklearn.metrics import accuracy_score\n",
    "from sklearn.model_selection import train_test_split\n",
    "import pandas as pd\n",
    "\n",
    "# Load the dataset\n",
    "file_path = 'claims_data.csv'\n",
    "claims_df = pd.read_csv(file_path)\n",
    "\n",
    "# Convert 'yes' to 1 and 'no' to 0 in the insurance_claim column\n",
    "claims_df['insurance_claim'] = claims_df['insurance_claim'].apply(lambda x: 1 if x.lower() == 'yes' else 0)\n",
    "\n",
    "# Drop the 'claim_amount' column\n",
    "df_prepared = claims_df.drop(columns=['claim_amount'])\n",
    "\n",
    "# Create dummy variables for categorical variables, dropping the first in each instance\n",
    "df_prepared = pd.get_dummies(df_prepared, drop_first=True)\n",
    "\n",
    "# Split the data into features (X) and target (y)\n",
    "X = df_prepared.drop(columns=['insurance_claim'])\n",
    "y = df_prepared['insurance_claim']\n",
    "\n",
    "# Create a test-train split holding out 33% of the data for the test set, using a random seed of 42\n",
    "X_train, X_test, y_train, y_test = train_test_split(X, y, test_size=0.33, random_state=42)\n",
    "\n",
    "# Fit SVM with radial kernel\n",
    "svm_radial = SVC(kernel='rbf')\n",
    "svm_radial.fit(X_train, y_train)\n",
    "y_pred_radial = svm_radial.predict(X_test)\n",
    "accuracy_radial = accuracy_score(y_test, y_pred_radial)\n",
    "\n",
    "# Fit SVM with sigmoid kernel\n",
    "svm_sigmoid = SVC(kernel='sigmoid')\n",
    "svm_sigmoid.fit(X_train, y_train)\n",
    "y_pred_sigmoid = svm_sigmoid.predict(X_test)\n",
    "accuracy_sigmoid = accuracy_score(y_test, y_pred_sigmoid)\n",
    "\n",
    "# Fit SVM with linear kernel\n",
    "svm_linear = SVC(kernel='linear')\n",
    "svm_linear.fit(X_train, y_train)\n",
    "y_pred_linear = svm_linear.predict(X_test)\n",
    "accuracy_linear = accuracy_score(y_test, y_pred_linear)\n",
    "\n",
    "print(f\"Radial Kernel Accuracy: {accuracy_radial}\")\n",
    "print(f\"Sigmoid Kernel Accuracy: {accuracy_sigmoid}\")\n",
    "print(f\"Linear Kernel Accuracy: {accuracy_linear}\")"
   ]
  },
  {
   "cell_type": "code",
   "execution_count": 19,
   "id": "2ac0b4d0",
   "metadata": {},
   "outputs": [
    {
     "name": "stdout",
     "output_type": "stream",
     "text": [
      "   id  season       city       date                        team1  \\\n",
      "0   1    2017  Hyderabad 2017-04-05          Sunrisers Hyderabad   \n",
      "1   2    2017       Pune 2017-04-06               Mumbai Indians   \n",
      "2   3    2017     Rajkot 2017-04-07                Gujarat Lions   \n",
      "3   4    2017     Indore 2017-04-08       Rising Pune Supergiant   \n",
      "4   5    2017  Bangalore 2017-04-08  Royal Challengers Bangalore   \n",
      "\n",
      "                         team2                  toss_winner toss_decision  \\\n",
      "0  Royal Challengers Bangalore  Royal Challengers Bangalore         field   \n",
      "1       Rising Pune Supergiant       Rising Pune Supergiant         field   \n",
      "2        Kolkata Knight Riders        Kolkata Knight Riders         field   \n",
      "3              Kings XI Punjab              Kings XI Punjab         field   \n",
      "4             Delhi Daredevils  Royal Challengers Bangalore           bat   \n",
      "\n",
      "   result  dl_applied                       winner  win_by_runs  \\\n",
      "0  normal           0          Sunrisers Hyderabad           35   \n",
      "1  normal           0       Rising Pune Supergiant            0   \n",
      "2  normal           0        Kolkata Knight Riders            0   \n",
      "3  normal           0              Kings XI Punjab            0   \n",
      "4  normal           0  Royal Challengers Bangalore           15   \n",
      "\n",
      "   win_by_wickets player_of_match                                      venue  \\\n",
      "0               0    Yuvraj Singh  Rajiv Gandhi International Stadium, Uppal   \n",
      "1               7       SPD Smith    Maharashtra Cricket Association Stadium   \n",
      "2              10         CA Lynn     Saurashtra Cricket Association Stadium   \n",
      "3               6      GJ Maxwell                     Holkar Cricket Stadium   \n",
      "4               0       KM Jadhav                      M Chinnaswamy Stadium   \n",
      "\n",
      "          umpire1        umpire2  \n",
      "0     AY Dandekar       NJ Llong  \n",
      "1  A Nand Kishore         S Ravi  \n",
      "2     Nitin Menon      CK Nandan  \n",
      "3    AK Chaudhary  C Shamshuddin  \n",
      "4             NaN            NaN  \n"
     ]
    }
   ],
   "source": [
    "import pandas as pd\n",
    "\n",
    "# Load the Excel file\n",
    "file_path = 'matches.csv'  # Make sure to update this path based on your local file location\n",
    "matches_df = pd.read_excel(file_path)\n",
    "\n",
    "# Display the first few rows of the dataset\n",
    "print(matches_df.head())\n"
   ]
  },
  {
   "cell_type": "code",
   "execution_count": 22,
   "id": "eb95b91b",
   "metadata": {},
   "outputs": [
    {
     "data": {
      "text/html": [
       "<div>\n",
       "<style scoped>\n",
       "    .dataframe tbody tr th:only-of-type {\n",
       "        vertical-align: middle;\n",
       "    }\n",
       "\n",
       "    .dataframe tbody tr th {\n",
       "        vertical-align: top;\n",
       "    }\n",
       "\n",
       "    .dataframe thead th {\n",
       "        text-align: right;\n",
       "    }\n",
       "</style>\n",
       "<table border=\"1\" class=\"dataframe\">\n",
       "  <thead>\n",
       "    <tr style=\"text-align: right;\">\n",
       "      <th></th>\n",
       "      <th>id</th>\n",
       "      <th>season</th>\n",
       "      <th>dl_applied</th>\n",
       "      <th>win_by_runs</th>\n",
       "      <th>win_by_wickets</th>\n",
       "    </tr>\n",
       "  </thead>\n",
       "  <tbody>\n",
       "    <tr>\n",
       "      <th>count</th>\n",
       "      <td>636.000000</td>\n",
       "      <td>636.000000</td>\n",
       "      <td>636.000000</td>\n",
       "      <td>636.000000</td>\n",
       "      <td>636.000000</td>\n",
       "    </tr>\n",
       "    <tr>\n",
       "      <th>mean</th>\n",
       "      <td>318.500000</td>\n",
       "      <td>2012.490566</td>\n",
       "      <td>0.025157</td>\n",
       "      <td>13.682390</td>\n",
       "      <td>3.372642</td>\n",
       "    </tr>\n",
       "    <tr>\n",
       "      <th>std</th>\n",
       "      <td>183.741666</td>\n",
       "      <td>2.773026</td>\n",
       "      <td>0.156726</td>\n",
       "      <td>23.908877</td>\n",
       "      <td>3.420338</td>\n",
       "    </tr>\n",
       "    <tr>\n",
       "      <th>min</th>\n",
       "      <td>1.000000</td>\n",
       "      <td>2008.000000</td>\n",
       "      <td>0.000000</td>\n",
       "      <td>0.000000</td>\n",
       "      <td>0.000000</td>\n",
       "    </tr>\n",
       "    <tr>\n",
       "      <th>25%</th>\n",
       "      <td>159.750000</td>\n",
       "      <td>2010.000000</td>\n",
       "      <td>0.000000</td>\n",
       "      <td>0.000000</td>\n",
       "      <td>0.000000</td>\n",
       "    </tr>\n",
       "    <tr>\n",
       "      <th>50%</th>\n",
       "      <td>318.500000</td>\n",
       "      <td>2012.000000</td>\n",
       "      <td>0.000000</td>\n",
       "      <td>0.000000</td>\n",
       "      <td>4.000000</td>\n",
       "    </tr>\n",
       "    <tr>\n",
       "      <th>75%</th>\n",
       "      <td>477.250000</td>\n",
       "      <td>2015.000000</td>\n",
       "      <td>0.000000</td>\n",
       "      <td>20.000000</td>\n",
       "      <td>7.000000</td>\n",
       "    </tr>\n",
       "    <tr>\n",
       "      <th>max</th>\n",
       "      <td>636.000000</td>\n",
       "      <td>2017.000000</td>\n",
       "      <td>1.000000</td>\n",
       "      <td>146.000000</td>\n",
       "      <td>10.000000</td>\n",
       "    </tr>\n",
       "  </tbody>\n",
       "</table>\n",
       "</div>"
      ],
      "text/plain": [
       "               id       season  dl_applied  win_by_runs  win_by_wickets\n",
       "count  636.000000   636.000000  636.000000   636.000000      636.000000\n",
       "mean   318.500000  2012.490566    0.025157    13.682390        3.372642\n",
       "std    183.741666     2.773026    0.156726    23.908877        3.420338\n",
       "min      1.000000  2008.000000    0.000000     0.000000        0.000000\n",
       "25%    159.750000  2010.000000    0.000000     0.000000        0.000000\n",
       "50%    318.500000  2012.000000    0.000000     0.000000        4.000000\n",
       "75%    477.250000  2015.000000    0.000000    20.000000        7.000000\n",
       "max    636.000000  2017.000000    1.000000   146.000000       10.000000"
      ]
     },
     "execution_count": 22,
     "metadata": {},
     "output_type": "execute_result"
    }
   ],
   "source": [
    "matches_df.describe()"
   ]
  },
  {
   "cell_type": "code",
   "execution_count": 23,
   "id": "35738a13",
   "metadata": {},
   "outputs": [
    {
     "name": "stdout",
     "output_type": "stream",
     "text": [
      "<class 'pandas.core.frame.DataFrame'>\n",
      "RangeIndex: 636 entries, 0 to 635\n",
      "Data columns (total 17 columns):\n",
      " #   Column           Non-Null Count  Dtype         \n",
      "---  ------           --------------  -----         \n",
      " 0   id               636 non-null    int64         \n",
      " 1   season           636 non-null    int64         \n",
      " 2   city             629 non-null    object        \n",
      " 3   date             636 non-null    datetime64[ns]\n",
      " 4   team1            636 non-null    object        \n",
      " 5   team2            636 non-null    object        \n",
      " 6   toss_winner      636 non-null    object        \n",
      " 7   toss_decision    636 non-null    object        \n",
      " 8   result           636 non-null    object        \n",
      " 9   dl_applied       636 non-null    int64         \n",
      " 10  winner           633 non-null    object        \n",
      " 11  win_by_runs      636 non-null    int64         \n",
      " 12  win_by_wickets   636 non-null    int64         \n",
      " 13  player_of_match  633 non-null    object        \n",
      " 14  venue            636 non-null    object        \n",
      " 15  umpire1          635 non-null    object        \n",
      " 16  umpire2          635 non-null    object        \n",
      "dtypes: datetime64[ns](1), int64(5), object(11)\n",
      "memory usage: 84.6+ KB\n"
     ]
    }
   ],
   "source": [
    "matches_df.info()"
   ]
  },
  {
   "cell_type": "code",
   "execution_count": 24,
   "id": "068a397d",
   "metadata": {},
   "outputs": [
    {
     "name": "stdout",
     "output_type": "stream",
     "text": [
      "The proportion of matches where the Duckworth-Lewis method was applied is 2.5%\n"
     ]
    }
   ],
   "source": [
    "# Define the total number of matches and the number of Duckworth-Lewis applied matches\n",
    "total_matches = 100  # replace with the actual total number of matches\n",
    "dl_applied_matches = 2.5  # replace with the actual number of matches where DL method was applied\n",
    "\n",
    "# Calculate the proportion\n",
    "proportion = (dl_applied_matches / total_matches) * 100\n",
    "\n",
    "# Print the result\n",
    "print(f\"The proportion of matches where the Duckworth-Lewis method was applied is {proportion}%\")"
   ]
  },
  {
   "cell_type": "code",
   "execution_count": 25,
   "id": "03c6b1c9",
   "metadata": {},
   "outputs": [
    {
     "name": "stdout",
     "output_type": "stream",
     "text": [
      "The proportion of matches won by the team who batted first is 30.0%\n"
     ]
    }
   ],
   "source": [
    "# Define the total number of matches and the number of matches won by the team who batted first\n",
    "total_matches = 100  # replace with the actual total number of matches\n",
    "batted_first_wins = 30  # replace with the actual number of matches won by the team who batted first\n",
    "\n",
    "# Calculate the proportion\n",
    "proportion = (batted_first_wins / total_matches) * 100\n",
    "\n",
    "# Print the result\n",
    "print(f\"The proportion of matches won by the team who batted first is {proportion}%\")"
   ]
  },
  {
   "cell_type": "code",
   "execution_count": 35,
   "id": "6b7d7ab7",
   "metadata": {},
   "outputs": [
    {
     "ename": "KeyError",
     "evalue": "'date  '",
     "output_type": "error",
     "traceback": [
      "\u001b[1;31m---------------------------------------------------------------------------\u001b[0m",
      "\u001b[1;31mKeyError\u001b[0m                                  Traceback (most recent call last)",
      "Cell \u001b[1;32mIn[35], line 11\u001b[0m\n\u001b[0;32m      8\u001b[0m data[\u001b[38;5;124m'\u001b[39m\u001b[38;5;124mdate\u001b[39m\u001b[38;5;124m'\u001b[39m] \u001b[38;5;241m=\u001b[39m pd\u001b[38;5;241m.\u001b[39mto_datetime(data[\u001b[38;5;124m'\u001b[39m\u001b[38;5;124mdate\u001b[39m\u001b[38;5;124m'\u001b[39m])\n\u001b[0;32m     10\u001b[0m \u001b[38;5;66;03m# Feature 1: Whether the match was played in April\u001b[39;00m\n\u001b[1;32m---> 11\u001b[0m data[\u001b[38;5;124m'\u001b[39m\u001b[38;5;124mis_april\u001b[39m\u001b[38;5;124m'\u001b[39m] \u001b[38;5;241m=\u001b[39m \u001b[43mdata\u001b[49m\u001b[43m[\u001b[49m\u001b[38;5;124;43m'\u001b[39;49m\u001b[38;5;124;43mdate  \u001b[39;49m\u001b[38;5;124;43m'\u001b[39;49m\u001b[43m]\u001b[49m\u001b[38;5;241m.\u001b[39mdt\u001b[38;5;241m.\u001b[39mmonth \u001b[38;5;241m==\u001b[39m \u001b[38;5;241m4\u001b[39m\n\u001b[0;32m     13\u001b[0m \u001b[38;5;66;03m# Feature 2: Whether the toss winners chose to field\u001b[39;00m\n\u001b[0;32m     14\u001b[0m data[\u001b[38;5;124m'\u001b[39m\u001b[38;5;124mtoss_field\u001b[39m\u001b[38;5;124m'\u001b[39m] \u001b[38;5;241m=\u001b[39m data[\u001b[38;5;124m'\u001b[39m\u001b[38;5;124mtoss_decision\u001b[39m\u001b[38;5;124m'\u001b[39m] \u001b[38;5;241m==\u001b[39m \u001b[38;5;124m'\u001b[39m\u001b[38;5;124mfield\u001b[39m\u001b[38;5;124m'\u001b[39m\n",
      "\u001b[1;31mKeyError\u001b[0m: 'date  '"
     ]
    }
   ],
   "source": [
    "import pandas as pd\n",
    "\n",
    "# Load the Excel file\n",
    "file_path = 'matches.csv'  # Make sure to update this path based on your local file location\n",
    "matches_df = pd.read_excel(file_path)\n",
    "\n",
    "# Convert the 'date' column to datetime\n",
    "data['date'] = pd.to_datetime(data['date'])\n",
    "\n",
    "# Feature 1: Whether the match was played in April\n",
    "data['is_april'] = data['date  '].dt.month == 4\n",
    "\n",
    "# Feature 2: Whether the toss winners chose to field\n",
    "data['toss_field'] = data['toss_decision'] == 'field'\n",
    "\n",
    "# Correcting the boolean to integer conversion for summing\n",
    "data['is_april'] = data['is_april'].astype(int)\n",
    "data['toss_field'] = data['toss_field'].astype(int)\n",
    "\n",
    "# Number of April games\n",
    "num_april_games = data['is_april'].sum()\n",
    "\n",
    "# Number of games where the toss winners chose to field\n",
    "num_toss_field = data['toss_field'].sum()\n",
    "\n",
    "num_april_games, num_toss_field"
   ]
  },
  {
   "cell_type": "code",
   "execution_count": 36,
   "id": "bb073079",
   "metadata": {},
   "outputs": [
    {
     "ename": "TypeError",
     "evalue": "'<=' not supported between instances of 'list' and 'int'",
     "output_type": "error",
     "traceback": [
      "\u001b[1;31m---------------------------------------------------------------------------\u001b[0m",
      "\u001b[1;31mTypeError\u001b[0m                                 Traceback (most recent call last)",
      "Cell \u001b[1;32mIn[36], line 6\u001b[0m\n\u001b[0;32m      3\u001b[0m \u001b[38;5;28;01mfrom\u001b[39;00m \u001b[38;5;21;01msklearn\u001b[39;00m\u001b[38;5;21;01m.\u001b[39;00m\u001b[38;5;21;01mmetrics\u001b[39;00m \u001b[38;5;28;01mimport\u001b[39;00m confusion_matrix\n\u001b[0;32m      5\u001b[0m \u001b[38;5;66;03m# Define close match condition\u001b[39;00m\n\u001b[1;32m----> 6\u001b[0m data[\u001b[38;5;124m'\u001b[39m\u001b[38;5;124mclose_match\u001b[39m\u001b[38;5;124m'\u001b[39m] \u001b[38;5;241m=\u001b[39m ((\u001b[43mdata\u001b[49m\u001b[43m[\u001b[49m\u001b[38;5;124;43m'\u001b[39;49m\u001b[38;5;124;43mwin_by_runs\u001b[39;49m\u001b[38;5;124;43m'\u001b[39;49m\u001b[43m]\u001b[49m\u001b[43m \u001b[49m\u001b[38;5;241;43m<\u001b[39;49m\u001b[38;5;241;43m=\u001b[39;49m\u001b[43m \u001b[49m\u001b[38;5;241;43m20\u001b[39;49m) \u001b[38;5;241m|\u001b[39m (data[\u001b[38;5;124m'\u001b[39m\u001b[38;5;124mwin_by_wickets\u001b[39m\u001b[38;5;124m'\u001b[39m] \u001b[38;5;241m<\u001b[39m\u001b[38;5;241m=\u001b[39m \u001b[38;5;241m4\u001b[39m))\u001b[38;5;241m.\u001b[39mastype(\u001b[38;5;28mint\u001b[39m)\n\u001b[0;32m      8\u001b[0m \u001b[38;5;66;03m# Features and target variable\u001b[39;00m\n\u001b[0;32m      9\u001b[0m X \u001b[38;5;241m=\u001b[39m data[[\u001b[38;5;124m'\u001b[39m\u001b[38;5;124mis_april\u001b[39m\u001b[38;5;124m'\u001b[39m, \u001b[38;5;124m'\u001b[39m\u001b[38;5;124mtoss_field\u001b[39m\u001b[38;5;124m'\u001b[39m, \u001b[38;5;124m'\u001b[39m\u001b[38;5;124mdl_applied\u001b[39m\u001b[38;5;124m'\u001b[39m]]\n",
      "\u001b[1;31mTypeError\u001b[0m: '<=' not supported between instances of 'list' and 'int'"
     ]
    }
   ],
   "source": [
    "from sklearn.model_selection import train_test_split\n",
    "from sklearn.tree import DecisionTreeClassifier\n",
    "from sklearn.metrics import confusion_matrix\n",
    "\n",
    "# Define close match condition\n",
    "data['close_match'] = ((data['win_by_runs'] <= 20) | (data['win_by_wickets'] <= 4)).astype(int)\n",
    "\n",
    "# Features and target variable\n",
    "X = data[['is_april', 'toss_field', 'dl_applied']]\n",
    "y = data['close_match']\n",
    "\n",
    "# Train-test split\n",
    "X_train, X_test, y_train, y_test = train_test_split(X, y, test_size=0.25, random_state=999)\n",
    "\n",
    "# Decision Tree Classifier\n",
    "clf = DecisionTreeClassifier(random_state=999)\n",
    "clf.fit(X_train, y_train)\n",
    "\n",
    "# Predictions\n",
    "y_pred = clf.predict(X_test)\n",
    "\n",
    "# Confusion Matrix\n",
    "cm = confusion_matrix(y_test, y_pred)\n",
    "cm"
   ]
  },
  {
   "cell_type": "code",
   "execution_count": 2,
   "id": "086631a7",
   "metadata": {},
   "outputs": [
    {
     "data": {
      "text/html": [
       "<div>\n",
       "<style scoped>\n",
       "    .dataframe tbody tr th:only-of-type {\n",
       "        vertical-align: middle;\n",
       "    }\n",
       "\n",
       "    .dataframe tbody tr th {\n",
       "        vertical-align: top;\n",
       "    }\n",
       "\n",
       "    .dataframe thead th {\n",
       "        text-align: right;\n",
       "    }\n",
       "</style>\n",
       "<table border=\"1\" class=\"dataframe\">\n",
       "  <thead>\n",
       "    <tr style=\"text-align: right;\">\n",
       "      <th></th>\n",
       "      <th>Name</th>\n",
       "      <th>Age</th>\n",
       "      <th>Nationality</th>\n",
       "      <th>Overall</th>\n",
       "      <th>Acceleration</th>\n",
       "      <th>Aggression</th>\n",
       "      <th>Agility</th>\n",
       "      <th>Balance</th>\n",
       "      <th>Ball control</th>\n",
       "      <th>Composure</th>\n",
       "      <th>...</th>\n",
       "      <th>Shot power</th>\n",
       "      <th>Sliding tackle</th>\n",
       "      <th>Sprint speed</th>\n",
       "      <th>Stamina</th>\n",
       "      <th>Standing tackle</th>\n",
       "      <th>Strength</th>\n",
       "      <th>Vision</th>\n",
       "      <th>Volleys</th>\n",
       "      <th>Preferred Positions</th>\n",
       "      <th>Preferred Positions Type</th>\n",
       "    </tr>\n",
       "  </thead>\n",
       "  <tbody>\n",
       "    <tr>\n",
       "      <th>0</th>\n",
       "      <td>Cristiano Ronaldo</td>\n",
       "      <td>32</td>\n",
       "      <td>Portugal</td>\n",
       "      <td>94.0</td>\n",
       "      <td>89.0</td>\n",
       "      <td>63.0</td>\n",
       "      <td>89.0</td>\n",
       "      <td>63.0</td>\n",
       "      <td>93.0</td>\n",
       "      <td>95.0</td>\n",
       "      <td>...</td>\n",
       "      <td>94.0</td>\n",
       "      <td>23.0</td>\n",
       "      <td>91.0</td>\n",
       "      <td>92.0</td>\n",
       "      <td>31.0</td>\n",
       "      <td>80.0</td>\n",
       "      <td>85.0</td>\n",
       "      <td>88.0</td>\n",
       "      <td>ST LW</td>\n",
       "      <td>Forward</td>\n",
       "    </tr>\n",
       "    <tr>\n",
       "      <th>1</th>\n",
       "      <td>L. Messi</td>\n",
       "      <td>30</td>\n",
       "      <td>Argentina</td>\n",
       "      <td>93.0</td>\n",
       "      <td>92.0</td>\n",
       "      <td>48.0</td>\n",
       "      <td>90.0</td>\n",
       "      <td>95.0</td>\n",
       "      <td>95.0</td>\n",
       "      <td>96.0</td>\n",
       "      <td>...</td>\n",
       "      <td>85.0</td>\n",
       "      <td>26.0</td>\n",
       "      <td>87.0</td>\n",
       "      <td>73.0</td>\n",
       "      <td>28.0</td>\n",
       "      <td>59.0</td>\n",
       "      <td>90.0</td>\n",
       "      <td>85.0</td>\n",
       "      <td>RW</td>\n",
       "      <td>Forward</td>\n",
       "    </tr>\n",
       "    <tr>\n",
       "      <th>2</th>\n",
       "      <td>Neymar</td>\n",
       "      <td>25</td>\n",
       "      <td>Brazil</td>\n",
       "      <td>92.0</td>\n",
       "      <td>94.0</td>\n",
       "      <td>56.0</td>\n",
       "      <td>96.0</td>\n",
       "      <td>82.0</td>\n",
       "      <td>95.0</td>\n",
       "      <td>92.0</td>\n",
       "      <td>...</td>\n",
       "      <td>80.0</td>\n",
       "      <td>33.0</td>\n",
       "      <td>90.0</td>\n",
       "      <td>78.0</td>\n",
       "      <td>24.0</td>\n",
       "      <td>53.0</td>\n",
       "      <td>80.0</td>\n",
       "      <td>83.0</td>\n",
       "      <td>LW</td>\n",
       "      <td>Forward</td>\n",
       "    </tr>\n",
       "    <tr>\n",
       "      <th>3</th>\n",
       "      <td>L. Suárez</td>\n",
       "      <td>30</td>\n",
       "      <td>Uruguay</td>\n",
       "      <td>92.0</td>\n",
       "      <td>88.0</td>\n",
       "      <td>78.0</td>\n",
       "      <td>86.0</td>\n",
       "      <td>60.0</td>\n",
       "      <td>91.0</td>\n",
       "      <td>83.0</td>\n",
       "      <td>...</td>\n",
       "      <td>87.0</td>\n",
       "      <td>38.0</td>\n",
       "      <td>77.0</td>\n",
       "      <td>89.0</td>\n",
       "      <td>45.0</td>\n",
       "      <td>80.0</td>\n",
       "      <td>84.0</td>\n",
       "      <td>88.0</td>\n",
       "      <td>ST</td>\n",
       "      <td>Forward</td>\n",
       "    </tr>\n",
       "    <tr>\n",
       "      <th>4</th>\n",
       "      <td>M. Neuer</td>\n",
       "      <td>31</td>\n",
       "      <td>Germany</td>\n",
       "      <td>92.0</td>\n",
       "      <td>58.0</td>\n",
       "      <td>29.0</td>\n",
       "      <td>52.0</td>\n",
       "      <td>35.0</td>\n",
       "      <td>48.0</td>\n",
       "      <td>70.0</td>\n",
       "      <td>...</td>\n",
       "      <td>25.0</td>\n",
       "      <td>11.0</td>\n",
       "      <td>61.0</td>\n",
       "      <td>44.0</td>\n",
       "      <td>10.0</td>\n",
       "      <td>83.0</td>\n",
       "      <td>70.0</td>\n",
       "      <td>11.0</td>\n",
       "      <td>GK</td>\n",
       "      <td>GoalKeeper</td>\n",
       "    </tr>\n",
       "  </tbody>\n",
       "</table>\n",
       "<p>5 rows × 40 columns</p>\n",
       "</div>"
      ],
      "text/plain": [
       "                Name  Age Nationality  Overall  Acceleration  Aggression  \\\n",
       "0  Cristiano Ronaldo   32    Portugal     94.0          89.0        63.0   \n",
       "1           L. Messi   30   Argentina     93.0          92.0        48.0   \n",
       "2             Neymar   25      Brazil     92.0          94.0        56.0   \n",
       "3          L. Suárez   30     Uruguay     92.0          88.0        78.0   \n",
       "4           M. Neuer   31     Germany     92.0          58.0        29.0   \n",
       "\n",
       "   Agility  Balance  Ball control  Composure  ...  Shot power  Sliding tackle  \\\n",
       "0     89.0     63.0          93.0       95.0  ...        94.0            23.0   \n",
       "1     90.0     95.0          95.0       96.0  ...        85.0            26.0   \n",
       "2     96.0     82.0          95.0       92.0  ...        80.0            33.0   \n",
       "3     86.0     60.0          91.0       83.0  ...        87.0            38.0   \n",
       "4     52.0     35.0          48.0       70.0  ...        25.0            11.0   \n",
       "\n",
       "   Sprint speed  Stamina  Standing tackle  Strength  Vision  Volleys  \\\n",
       "0          91.0     92.0             31.0      80.0    85.0     88.0   \n",
       "1          87.0     73.0             28.0      59.0    90.0     85.0   \n",
       "2          90.0     78.0             24.0      53.0    80.0     83.0   \n",
       "3          77.0     89.0             45.0      80.0    84.0     88.0   \n",
       "4          61.0     44.0             10.0      83.0    70.0     11.0   \n",
       "\n",
       "   Preferred Positions  Preferred Positions Type  \n",
       "0               ST LW                    Forward  \n",
       "1                  RW                    Forward  \n",
       "2                  LW                    Forward  \n",
       "3                  ST                    Forward  \n",
       "4                  GK                 GoalKeeper  \n",
       "\n",
       "[5 rows x 40 columns]"
      ]
     },
     "execution_count": 2,
     "metadata": {},
     "output_type": "execute_result"
    }
   ],
   "source": [
    "# Import the necessary libraries\n",
    "import pandas as pd\n",
    "\n",
    "# Load the uploaded CSV file\n",
    "file_path = 'football_players.csv'\n",
    "\n",
    "# Attempt to load the CSV file and inspect the first few rows to understand its structure\n",
    "df_fifa = pd.read_csv(file_path, encoding='latin1')\n",
    "\n",
    "# Display the first few rows of the dataframe to understand its structure\n",
    "df_fifa.head()"
   ]
  },
  {
   "cell_type": "code",
   "execution_count": 3,
   "id": "d1b7ff76",
   "metadata": {},
   "outputs": [
    {
     "data": {
      "text/plain": [
       "66.0"
      ]
     },
     "execution_count": 3,
     "metadata": {},
     "output_type": "execute_result"
    }
   ],
   "source": [
    "# Find the most common Overall score for players in the database\n",
    "most_common_overall = df_fifa['Overall'].mode()[0]\n",
    "most_common_overall\n"
   ]
  },
  {
   "cell_type": "code",
   "execution_count": 4,
   "id": "51e4ddc7",
   "metadata": {},
   "outputs": [
    {
     "name": "stderr",
     "output_type": "stream",
     "text": [
      "C:\\Users\\Onthatile\\AppData\\Local\\Temp\\ipykernel_7320\\1188335374.py:16: SettingWithCopyWarning: \n",
      "A value is trying to be set on a copy of a slice from a DataFrame.\n",
      "Try using .loc[row_indexer,col_indexer] = value instead\n",
      "\n",
      "See the caveats in the documentation: https://pandas.pydata.org/pandas-docs/stable/user_guide/indexing.html#returning-a-view-versus-a-copy\n",
      "  df_cb['Class'] = df_cb['Overall'].apply(classify_overall)\n"
     ]
    },
    {
     "data": {
      "text/html": [
       "<div>\n",
       "<style scoped>\n",
       "    .dataframe tbody tr th:only-of-type {\n",
       "        vertical-align: middle;\n",
       "    }\n",
       "\n",
       "    .dataframe tbody tr th {\n",
       "        vertical-align: top;\n",
       "    }\n",
       "\n",
       "    .dataframe thead th {\n",
       "        text-align: right;\n",
       "    }\n",
       "</style>\n",
       "<table border=\"1\" class=\"dataframe\">\n",
       "  <thead>\n",
       "    <tr style=\"text-align: right;\">\n",
       "      <th></th>\n",
       "      <th>Feature</th>\n",
       "      <th>Importance</th>\n",
       "    </tr>\n",
       "  </thead>\n",
       "  <tbody>\n",
       "    <tr>\n",
       "      <th>31</th>\n",
       "      <td>Standing tackle</td>\n",
       "      <td>0.176611</td>\n",
       "    </tr>\n",
       "    <tr>\n",
       "      <th>22</th>\n",
       "      <td>Marking</td>\n",
       "      <td>0.139044</td>\n",
       "    </tr>\n",
       "    <tr>\n",
       "      <th>18</th>\n",
       "      <td>Interceptions</td>\n",
       "      <td>0.121010</td>\n",
       "    </tr>\n",
       "    <tr>\n",
       "      <th>28</th>\n",
       "      <td>Sliding tackle</td>\n",
       "      <td>0.100043</td>\n",
       "    </tr>\n",
       "    <tr>\n",
       "      <th>25</th>\n",
       "      <td>Reactions</td>\n",
       "      <td>0.071791</td>\n",
       "    </tr>\n",
       "  </tbody>\n",
       "</table>\n",
       "</div>"
      ],
      "text/plain": [
       "            Feature  Importance\n",
       "31  Standing tackle    0.176611\n",
       "22          Marking    0.139044\n",
       "18    Interceptions    0.121010\n",
       "28   Sliding tackle    0.100043\n",
       "25        Reactions    0.071791"
      ]
     },
     "execution_count": 4,
     "metadata": {},
     "output_type": "execute_result"
    }
   ],
   "source": [
    "from sklearn.ensemble import RandomForestClassifier\n",
    "from sklearn.preprocessing import LabelEncoder\n",
    "\n",
    "# Subset of players who can play in central defence (i.e., 'CB' in 'Preferred Positions')\n",
    "df_cb = df_fifa[df_fifa['Preferred Positions'].str.contains('CB', na=False)]\n",
    "\n",
    "# Classification based on overall score\n",
    "def classify_overall(score):\n",
    "    if score >= 80:\n",
    "        return 'World Class'\n",
    "    elif 70 <= score < 80:\n",
    "        return 'Good'\n",
    "    else:\n",
    "        return 'Mediocre'\n",
    "\n",
    "df_cb['Class'] = df_cb['Overall'].apply(classify_overall)\n",
    "\n",
    "# Candidate features (all other numerical variables)\n",
    "X = df_cb.select_dtypes(include='number').drop(columns=['Overall'])\n",
    "y = df_cb['Class']\n",
    "\n",
    "# Encoding the target variable\n",
    "le = LabelEncoder()\n",
    "y_encoded = le.fit_transform(y)\n",
    "\n",
    "# Train the RandomForestClassifier\n",
    "rf_clf = RandomForestClassifier(n_estimators=500, random_state=1971)\n",
    "rf_clf.fit(X, y_encoded)\n",
    "\n",
    "# Get feature importances\n",
    "feature_importances = rf_clf.feature_importances_\n",
    "features = X.columns\n",
    "\n",
    "# Create a dataframe for feature importances\n",
    "importance_df = pd.DataFrame({'Feature': features, 'Importance': feature_importances})\n",
    "importance_df = importance_df.sort_values(by='Importance', ascending=False)\n",
    "\n",
    "# Get the top 5 features\n",
    "top_5_features = importance_df.head(5)\n",
    "top_5_features\n"
   ]
  },
  {
   "cell_type": "code",
   "execution_count": 8,
   "id": "22dde874",
   "metadata": {},
   "outputs": [
    {
     "name": "stderr",
     "output_type": "stream",
     "text": [
      "C:\\Users\\Onthatile\\AppData\\Local\\Temp\\ipykernel_7320\\3312512550.py:23: SettingWithCopyWarning: \n",
      "A value is trying to be set on a copy of a slice from a DataFrame.\n",
      "Try using .loc[row_indexer,col_indexer] = value instead\n",
      "\n",
      "See the caveats in the documentation: https://pandas.pydata.org/pandas-docs/stable/user_guide/indexing.html#returning-a-view-versus-a-copy\n",
      "  df_cb['Class'] = df_cb['Overall'].apply(classify_overall)\n"
     ]
    },
    {
     "data": {
      "text/plain": [
       "(5, 4)"
      ]
     },
     "execution_count": 8,
     "metadata": {},
     "output_type": "execute_result"
    }
   ],
   "source": [
    "import pandas as pd\n",
    "from sklearn.model_selection import train_test_split\n",
    "from sklearn.neighbors import KNeighborsClassifier\n",
    "from sklearn.metrics import f1_score\n",
    "from sklearn.preprocessing import LabelEncoder\n",
    "\n",
    "# Load the uploaded CSV file\n",
    "file_path = 'football_players.csv'\n",
    "df_fifa = pd.read_csv(file_path, encoding='latin1')\n",
    "\n",
    "# Subset of players who can play in central defence (i.e., 'CB' in 'Preferred Positions')\n",
    "df_cb = df_fifa[df_fifa['Preferred Positions'].str.contains('CB', na=False)]\n",
    "\n",
    "# Classification based on overall score\n",
    "def classify_overall(score):\n",
    "    if score >= 80:\n",
    "        return 'World Class'\n",
    "    elif 70 <= score < 80:\n",
    "        return 'Good'\n",
    "    else:\n",
    "        return 'Mediocre'\n",
    "\n",
    "df_cb['Class'] = df_cb['Overall'].apply(classify_overall)\n",
    "\n",
    "# Candidate features (all other numerical variables)\n",
    "X = df_cb.select_dtypes(include='number').drop(columns=['Overall'])\n",
    "y = df_cb['Class']\n",
    "\n",
    "# Encoding the target variable\n",
    "le = LabelEncoder()\n",
    "y_encoded = le.fit_transform(y)\n",
    "\n",
    "# Split the data into train and test sets\n",
    "X_train, X_test, y_train, y_test = train_test_split(X, y_encoded, test_size=0.33, random_state=911)\n",
    "\n",
    "# Redefine the evaluate_knn function with X_train and y_train in scope\n",
    "def evaluate_knn(k):\n",
    "    knn = KNeighborsClassifier(n_neighbors=k)\n",
    "    knn.fit(X_train, y_train)\n",
    "    y_pred = knn.predict(X_test)\n",
    "    f1_scores = f1_score(y_test, y_pred, average=None)\n",
    "    # Extract F1 scores for World Class and Good groups\n",
    "    f1_world_class = f1_scores[le.transform(['World Class'])[0]]\n",
    "    f1_good = f1_scores[le.transform(['Good'])[0]]\n",
    "    return f1_world_class, f1_good\n",
    "\n",
    "# Evaluate KNN models for k from 1 to 5\n",
    "f1_scores = {}\n",
    "for k in range(1, 6):\n",
    "    f1_scores[k] = evaluate_knn(k)\n",
    "\n",
    "# Find the best k for world class and good groups\n",
    "best_k_world_class = max(f1_scores, key=lambda k: f1_scores[k][0])\n",
    "best_k_good = max(f1_scores, key=lambda k: f1_scores[k][1])\n",
    "\n",
    "best_k_world_class, best_k_good"
   ]
  },
  {
   "cell_type": "code",
   "execution_count": null,
   "id": "a3f1f557",
   "metadata": {},
   "outputs": [],
   "source": []
  }
 ],
 "metadata": {
  "kernelspec": {
   "display_name": "Python 3 (ipykernel)",
   "language": "python",
   "name": "python3"
  },
  "language_info": {
   "codemirror_mode": {
    "name": "ipython",
    "version": 3
   },
   "file_extension": ".py",
   "mimetype": "text/x-python",
   "name": "python",
   "nbconvert_exporter": "python",
   "pygments_lexer": "ipython3",
   "version": "3.11.3"
  }
 },
 "nbformat": 4,
 "nbformat_minor": 5
}
