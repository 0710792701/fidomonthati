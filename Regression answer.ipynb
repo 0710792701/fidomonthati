{
 "cells": [
  {
   "cell_type": "code",
   "execution_count": 1,
   "id": "7ff4a0c7",
   "metadata": {},
   "outputs": [
    {
     "data": {
      "text/plain": [
       "(array([8.67712634e-05]), 3.2941036551619103)"
      ]
     },
     "execution_count": 1,
     "metadata": {},
     "output_type": "execute_result"
    }
   ],
   "source": [
    "import pandas as pd\n",
    "from sklearn.model_selection import train_test_split\n",
    "from sklearn.linear_model import LinearRegression\n",
    "\n",
    "# Load the dataset\n",
    "file_path = 'rand-dollar.csv'\n",
    "df = pd.read_csv(file_path, index_col=0)\n",
    "\n",
    "# Separate the data into features (X) and target (y)\n",
    "X = df[['Value of Exports (ZAR)']]\n",
    "y = df['ZAR/USD']\n",
    "\n",
    "# Create an 80/20 split between train and test sets\n",
    "X_train, X_test, y_train, y_test = train_test_split(X, y, test_size=0.2, shuffle=False)\n",
    "\n",
    "# Train a simple linear regression model\n",
    "lm = LinearRegression()\n",
    "lm.fit(X_train, y_train)\n",
    "\n",
    "# Output the coefficients and intercept of the model\n",
    "lm.coef_, lm.intercept_"
   ]
  },
  {
   "cell_type": "code",
   "execution_count": 2,
   "id": "3ca57a63",
   "metadata": {},
   "outputs": [
    {
     "data": {
      "text/plain": [
       "(8.677126339792249e-05, 3.2941036551619103)"
      ]
     },
     "execution_count": 2,
     "metadata": {},
     "output_type": "execute_result"
    }
   ],
   "source": [
    "import pandas as pd\n",
    "from sklearn.model_selection import train_test_split\n",
    "from sklearn.linear_model import LinearRegression\n",
    "\n",
    "# Load the dataset\n",
    "file_path = 'rand-dollar.csv'\n",
    "df = pd.read_csv(file_path, index_col=0)\n",
    "\n",
    "# Separate the data into features (X) and target (y)\n",
    "X = df[['Value of Exports (ZAR)']]\n",
    "y = df['ZAR/USD']\n",
    "\n",
    "# Create an 80/20 split between train and test sets\n",
    "X_train, X_test, y_train, y_test = train_test_split(X, y, test_size=0.2, shuffle=False)\n",
    "\n",
    "# Train a simple linear regression model\n",
    "lm = LinearRegression()\n",
    "lm.fit(X_train, y_train)\n",
    "\n",
    "# Output the coefficients and intercept of the model\n",
    "slope = lm.coef_[0]\n",
    "intercept = lm.intercept_\n",
    "\n",
    "slope, intercept"
   ]
  },
  {
   "cell_type": "code",
   "execution_count": 3,
   "id": "b05d9014",
   "metadata": {},
   "outputs": [
    {
     "data": {
      "text/plain": [
       "11.97122999516191"
      ]
     },
     "execution_count": 3,
     "metadata": {},
     "output_type": "execute_result"
    }
   ],
   "source": [
    "# Recalculate the predicted value of the exchange rate given the intercept and slope\n",
    "intercept = 3.2941036551619103\n",
    "slope = 8.67712634e-05\n",
    "value_of_exports = 100000\n",
    "\n",
    "# Calculate the predicted value\n",
    "predicted_ZAR_USD = intercept + (slope * value_of_exports)\n",
    "predicted_ZAR_USD"
   ]
  },
  {
   "cell_type": "code",
   "execution_count": 4,
   "id": "2b3fdb0e",
   "metadata": {},
   "outputs": [
    {
     "data": {
      "text/plain": [
       "8.221852113297063"
      ]
     },
     "execution_count": 4,
     "metadata": {},
     "output_type": "execute_result"
    }
   ],
   "source": [
    "from sklearn.metrics import mean_squared_error\n",
    "\n",
    "# Predict the exchange rates on the test set\n",
    "y_pred = lm.predict(X_test)\n",
    "\n",
    "# Calculate the Mean Squared Error\n",
    "mse = mean_squared_error(y_test, y_pred)\n",
    "mse"
   ]
  },
  {
   "cell_type": "code",
   "execution_count": 5,
   "id": "c2d0da3e",
   "metadata": {},
   "outputs": [
    {
     "data": {
      "text/plain": [
       "-8.448868004702911"
      ]
     },
     "execution_count": 5,
     "metadata": {},
     "output_type": "execute_result"
    }
   ],
   "source": [
    "# Calculate the R-squared value on the test set\n",
    "r_squared = lm.score(X_test, y_test)\n",
    "r_squared"
   ]
  },
  {
   "cell_type": "code",
   "execution_count": 9,
   "id": "33a990bb",
   "metadata": {},
   "outputs": [
    {
     "name": "stderr",
     "output_type": "stream",
     "text": [
      "C:\\Users\\Onthatile\\AppData\\Local\\Programs\\Python\\Python311\\Lib\\site-packages\\sklearn\\base.py:493: UserWarning: X does not have valid feature names, but LinearRegression was fitted with feature names\n",
      "  warnings.warn(\n"
     ]
    },
    {
     "data": {
      "text/plain": [
       "12.24882601767889"
      ]
     },
     "execution_count": 9,
     "metadata": {},
     "output_type": "execute_result"
    }
   ],
   "source": [
    "import pandas as pd\n",
    "import numpy as np\n",
    "from sklearn.model_selection import train_test_split\n",
    "from sklearn.linear_model import LinearRegression\n",
    "\n",
    "# Load the dataset\n",
    "file_path = 'rand-dollar.csv'\n",
    "df = pd.read_csv(file_path, index_col=0)\n",
    "\n",
    "# Convert the index to datetime using the custom format\n",
    "df.index = pd.to_datetime(df.index, format='%YM%m')\n",
    "\n",
    "# Separate the data into features (X) and target (y)\n",
    "X = df[['Value of Exports (ZAR)']]\n",
    "y = df['ZAR/USD']\n",
    "\n",
    "# Create an 80/20 split between train and test sets\n",
    "X_train, X_test, y_train, y_test = train_test_split(X, y, test_size=0.2, shuffle=False)\n",
    "\n",
    "# Train a simple linear regression model\n",
    "lm = LinearRegression()\n",
    "lm.fit(X_train, y_train)\n",
    "\n",
    "# Extract the Value of Exports for August 2017\n",
    "august_2017_exports = df.loc['2017-08']['Value of Exports (ZAR)']\n",
    "\n",
    "# Ensure the value is in the correct shape for prediction\n",
    "august_2017_exports = np.array(august_2017_exports).reshape(1, -1)\n",
    "\n",
    "# Predict the exchange rate for August 2017\n",
    "august_2017_prediction = lm.predict(august_2017_exports)\n",
    "august_2017_prediction[0]"
   ]
  },
  {
   "cell_type": "code",
   "execution_count": 10,
   "id": "11d8fd54",
   "metadata": {},
   "outputs": [
    {
     "data": {
      "text/plain": [
       "2017-08-01    0.981174\n",
       "Name: ZAR/USD, dtype: float64"
      ]
     },
     "execution_count": 10,
     "metadata": {},
     "output_type": "execute_result"
    }
   ],
   "source": [
    "# Extract the actual ZAR/USD exchange rate for August 2017\n",
    "actual_august_2017 = df.loc['2017-08']['ZAR/USD']\n",
    "\n",
    "# Calculate the absolute error\n",
    "absolute_error = abs(actual_august_2017 - august_2017_prediction[0])\n",
    "absolute_error"
   ]
  },
  {
   "cell_type": "code",
   "execution_count": 11,
   "id": "8f5145cc",
   "metadata": {},
   "outputs": [
    {
     "data": {
      "text/plain": [
       "('Claims on Non-residents (USD)', -0.7272781127462906)"
      ]
     },
     "execution_count": 11,
     "metadata": {},
     "output_type": "execute_result"
    }
   ],
   "source": [
    "import pandas as pd\n",
    "\n",
    "# Load the dataset\n",
    "file_path = 'rand-dollar.csv'\n",
    "df = pd.read_csv(file_path, index_col=0)\n",
    "\n",
    "# Calculate the correlation matrix\n",
    "correlation_matrix = df.corr()\n",
    "\n",
    "# Extract the correlations with the target variable (ZAR/USD)\n",
    "correlations_with_target = correlation_matrix['ZAR/USD']\n",
    "\n",
    "# Find the variable with the weakest linear relationship with ZAR/USD\n",
    "weakest_relationship = correlations_with_target.drop('ZAR/USD').idxmin()\n",
    "weakest_relationship, correlations_with_target[weakest_relationship]"
   ]
  },
  {
   "cell_type": "code",
   "execution_count": 14,
   "id": "77fe53c5",
   "metadata": {},
   "outputs": [
    {
     "data": {
      "text/plain": [
       "('Consumer Price Index', 0.8726596961841487)"
      ]
     },
     "execution_count": 14,
     "metadata": {},
     "output_type": "execute_result"
    }
   ],
   "source": [
    "import pandas as pd\n",
    "\n",
    "# Load the dataset\n",
    "file_path = 'rand-dollar.csv'\n",
    "df = pd.read_csv(file_path, index_col=0)\n",
    "\n",
    "# Calculate the correlation matrix\n",
    "correlation_matrix = df.corr()\n",
    "\n",
    "# Extract the correlations with the target variable (ZAR/USD)\n",
    "correlations_with_target = correlation_matrix['ZAR/USD']\n",
    "\n",
    "# Find the variable with the strongest linear relationship with ZAR/USD\n",
    "strongest_relationship = correlations_with_target.drop('ZAR/USD').idxmax()\n",
    "strongest_relationship, correlations_with_target[strongest_relationship]"
   ]
  },
  {
   "cell_type": "code",
   "execution_count": 15,
   "id": "c2d5f168",
   "metadata": {},
   "outputs": [
    {
     "data": {
      "text/plain": [
       "(array([-0.57865633,  1.06118319, -0.73636708,  1.00252832,  0.02048673,\n",
       "         0.15562532,  0.06812484,  0.00571159, -0.08751804,  0.52560629,\n",
       "         0.01877206, -0.11293656,  0.63080368]),\n",
       " array([-0.57764657,  1.13544991, -0.81671784,  1.1718194 ,  0.        ,\n",
       "         0.08023244,  0.        ,  0.03039856,  0.        ,  0.20985475,\n",
       "        -0.        , -0.03094424,  0.23931429]))"
      ]
     },
     "execution_count": 15,
     "metadata": {},
     "output_type": "execute_result"
    }
   ],
   "source": [
    "import pandas as pd\n",
    "from sklearn.model_selection import train_test_split\n",
    "from sklearn.linear_model import Ridge, Lasso\n",
    "from sklearn.preprocessing import StandardScaler\n",
    "\n",
    "# Load the dataset\n",
    "file_path = 'rand-dollar.csv'\n",
    "df = pd.read_csv(file_path, index_col=0)\n",
    "\n",
    "# Separate the data into features (X) and target (y)\n",
    "X = df.drop(columns=['ZAR/USD'])\n",
    "y = df['ZAR/USD']\n",
    "\n",
    "# Standardise the entire X matrix\n",
    "scaler = StandardScaler()\n",
    "X_scaled = scaler.fit_transform(X)\n",
    "\n",
    "# Create an 80/20 split between train and test sets\n",
    "X_train, X_test, y_train, y_test = train_test_split(X_scaled, y, test_size=0.2, shuffle=False)\n",
    "\n",
    "# Train a Ridge regression model\n",
    "ridge_model = Ridge()\n",
    "ridge_model.fit(X_train, y_train)\n",
    "\n",
    "# Train a LASSO regression model with alpha=0.01\n",
    "lasso_model = Lasso(alpha=0.01)\n",
    "lasso_model.fit(X_train, y_train)\n",
    "\n",
    "# Output the coefficients of both models\n",
    "ridge_coefficients = ridge_model.coef_\n",
    "lasso_coefficients = lasso_model.coef_\n",
    "\n",
    "ridge_coefficients, lasso_coefficients"
   ]
  },
  {
   "cell_type": "code",
   "execution_count": 16,
   "id": "37450ffa",
   "metadata": {},
   "outputs": [
    {
     "data": {
      "text/plain": [
       "0.0402329882761449"
      ]
     },
     "execution_count": 16,
     "metadata": {},
     "output_type": "execute_result"
    }
   ],
   "source": [
    "from sklearn.metrics import mean_squared_error\n",
    "\n",
    "# Predict the target values for the training set using the Ridge model\n",
    "y_train_pred_ridge = ridge_model.predict(X_train)\n",
    "\n",
    "# Calculate the MSE for the training set\n",
    "mse_train_ridge = mean_squared_error(y_train, y_train_pred_ridge)\n",
    "mse_train_ridge"
   ]
  },
  {
   "cell_type": "code",
   "execution_count": 21,
   "id": "be96bed8",
   "metadata": {},
   "outputs": [
    {
     "data": {
      "text/plain": [
       "0.04695493921820656"
      ]
     },
     "execution_count": 21,
     "metadata": {},
     "output_type": "execute_result"
    }
   ],
   "source": [
    "from sklearn.metrics import mean_squared_error\n",
    "\n",
    "# Predict the target values for the training set using the Lasso model\n",
    "y_train_pred_lasso = lasso_model.predict(X_train)\n",
    "\n",
    "# Calculate the MSE for the training set\n",
    "mse_train_lasso = mean_squared_error(y_train, y_train_pred_lasso)\n",
    "mse_train_lasso"
   ]
  },
  {
   "cell_type": "code",
   "execution_count": 22,
   "id": "eaa29a91",
   "metadata": {},
   "outputs": [
    {
     "data": {
      "text/plain": [
       "0.6323866944567456"
      ]
     },
     "execution_count": 22,
     "metadata": {},
     "output_type": "execute_result"
    }
   ],
   "source": [
    "from sklearn.metrics import mean_squared_error\n",
    "\n",
    "# Predict the target values for the training set using the Ridge model\n",
    "y_test_pred_ridge = ridge_model.predict(X_test)\n",
    "\n",
    "# Calculate the MSE for the training set\n",
    "mse_test_ridge = mean_squared_error(y_test, y_test_pred_ridge)\n",
    "mse_test_ridge"
   ]
  },
  {
   "cell_type": "code",
   "execution_count": 24,
   "id": "64175415",
   "metadata": {},
   "outputs": [
    {
     "data": {
      "text/plain": [
       "0.5790226574339913"
      ]
     },
     "execution_count": 24,
     "metadata": {},
     "output_type": "execute_result"
    }
   ],
   "source": [
    "from sklearn.metrics import mean_squared_error\n",
    "\n",
    "# Predict the target values for the training set using the Lasso model\n",
    "y_test_pred_lasso = lasso_model.predict(X_test)\n",
    "\n",
    "# Calculate the MSE for the training set\n",
    "mse_test_lasso = mean_squared_error(y_test, y_test_pred_lasso)\n",
    "mse_test_lasso"
   ]
  },
  {
   "cell_type": "code",
   "execution_count": 26,
   "id": "4cd96fb5",
   "metadata": {},
   "outputs": [
    {
     "data": {
      "text/plain": [
       "Feature        Value of Exports (ZAR)\n",
       "Coefficient                  1.061183\n",
       "Name: 1, dtype: object"
      ]
     },
     "execution_count": 26,
     "metadata": {},
     "output_type": "execute_result"
    }
   ],
   "source": [
    "import pandas as pd\n",
    "from sklearn.model_selection import train_test_split\n",
    "from sklearn.linear_model import Ridge\n",
    "from sklearn.preprocessing import StandardScaler\n",
    "from sklearn.metrics import mean_squared_error\n",
    "\n",
    "# Load the dataset\n",
    "file_path = 'rand-dollar.csv'\n",
    "df = pd.read_csv(file_path, index_col=0)\n",
    "\n",
    "# Separate the data into features (X) and target (y)\n",
    "X = df.drop(columns=['ZAR/USD'])\n",
    "y = df['ZAR/USD']\n",
    "\n",
    "# Standardise the entire X matrix\n",
    "scaler = StandardScaler()\n",
    "X_scaled = scaler.fit_transform(X)\n",
    "\n",
    "# Create an 80/20 split between train and test sets\n",
    "X_train, X_test, y_train, y_test = train_test_split(X_scaled, y, test_size=0.2, shuffle=False)\n",
    "\n",
    "# Train a Ridge regression model\n",
    "ridge_model = Ridge()\n",
    "ridge_model.fit(X_train, y_train)\n",
    "\n",
    "# Retrieve the coefficients of the trained Ridge model\n",
    "ridge_coefficients = ridge_model.coef_\n",
    "\n",
    "# Create a DataFrame for the coefficients and their corresponding feature names\n",
    "coefficients_df = pd.DataFrame({\n",
    "    'Feature': X.columns,\n",
    "    'Coefficient': ridge_coefficients\n",
    "})\n",
    "\n",
    "# Identify the predictor variable with the highest absolute coefficient value\n",
    "best_predictor = coefficients_df.loc[coefficients_df['Coefficient'].abs().idxmax()]\n",
    "\n",
    "best_predictor"
   ]
  },
  {
   "cell_type": "code",
   "execution_count": 27,
   "id": "9b094da2",
   "metadata": {},
   "outputs": [
    {
     "data": {
      "text/plain": [
       "Feature        Liabilities to Non-residents (USD)\n",
       "Coefficient                              0.005712\n",
       "Name: 7, dtype: object"
      ]
     },
     "execution_count": 27,
     "metadata": {},
     "output_type": "execute_result"
    }
   ],
   "source": [
    "import pandas as pd\n",
    "from sklearn.model_selection import train_test_split\n",
    "from sklearn.linear_model import Ridge\n",
    "from sklearn.preprocessing import StandardScaler\n",
    "from sklearn.metrics import mean_squared_error\n",
    "\n",
    "# Load the dataset\n",
    "file_path = 'rand-dollar.csv'\n",
    "df = pd.read_csv(file_path, index_col=0)\n",
    "\n",
    "# Separate the data into features (X) and target (y)\n",
    "X = df.drop(columns=['ZAR/USD'])\n",
    "y = df['ZAR/USD']\n",
    "\n",
    "# Standardise the entire X matrix\n",
    "scaler = StandardScaler()\n",
    "X_scaled = scaler.fit_transform(X)\n",
    "\n",
    "# Create an 80/20 split between train and test sets\n",
    "X_train, X_test, y_train, y_test = train_test_split(X_scaled, y, test_size=0.2, shuffle=False)\n",
    "\n",
    "# Train a Ridge regression model\n",
    "ridge_model = Ridge()\n",
    "ridge_model.fit(X_train, y_train)\n",
    "\n",
    "# Retrieve the coefficients of the trained Ridge model\n",
    "ridge_coefficients = ridge_model.coef_\n",
    "\n",
    "# Create a DataFrame for the coefficients and their corresponding feature names\n",
    "coefficients_df = pd.DataFrame({\n",
    "    'Feature': X.columns,\n",
    "    'Coefficient': ridge_coefficients\n",
    "})\n",
    "\n",
    "# Identify the predictor variable with the highest absolute coefficient value\n",
    "worst_predictor = coefficients_df.loc[coefficients_df['Coefficient'].abs().idxmin()]\n",
    "\n",
    "worst_predictor"
   ]
  },
  {
   "cell_type": "code",
   "execution_count": 28,
   "id": "99b7fcfa",
   "metadata": {},
   "outputs": [
    {
     "data": {
      "text/plain": [
       "Feature        Value of Imports (ZAR)\n",
       "Coefficient                  0.430798\n",
       "Name: 3, dtype: object"
      ]
     },
     "execution_count": 28,
     "metadata": {},
     "output_type": "execute_result"
    }
   ],
   "source": [
    "import pandas as pd\n",
    "from sklearn.model_selection import train_test_split\n",
    "from sklearn.linear_model import Lasso\n",
    "from sklearn.preprocessing import StandardScaler\n",
    "from sklearn.metrics import mean_squared_error\n",
    "\n",
    "# Load the dataset\n",
    "file_path = 'rand-dollar.csv'\n",
    "df = pd.read_csv(file_path, index_col=0)\n",
    "\n",
    "# Separate the data into features (X) and target (y)\n",
    "X = df.drop(columns=['ZAR/USD'])\n",
    "y = df['ZAR/USD']\n",
    "\n",
    "# Standardise the entire X matrix\n",
    "scaler = StandardScaler()\n",
    "X_scaled = scaler.fit_transform(X)\n",
    "\n",
    "# Create an 80/20 split between train and test sets\n",
    "X_train, X_test, y_train, y_test = train_test_split(X_scaled, y, test_size=0.2, shuffle=False)\n",
    "\n",
    "# Train a Ridge regression model\n",
    "lasso_model = Lasso()\n",
    "lasso_model.fit(X_train, y_train)\n",
    "\n",
    "# Retrieve the coefficients of the trained Lasso model\n",
    "lasso_coefficients = lasso_model.coef_\n",
    "\n",
    "# Create a DataFrame for the coefficients and their corresponding feature names\n",
    "coefficients_df = pd.DataFrame({\n",
    "    'Feature': X.columns,\n",
    "    'Coefficient': lasso_coefficients\n",
    "})\n",
    "\n",
    "# Identify the predictor variable with the highest absolute coefficient value\n",
    "best_predictor = coefficients_df.loc[coefficients_df['Coefficient'].abs().idxmax()]\n",
    "\n",
    "best_predictor"
   ]
  },
  {
   "cell_type": "code",
   "execution_count": 31,
   "id": "b4e887da",
   "metadata": {},
   "outputs": [
    {
     "data": {
      "text/plain": [
       "4"
      ]
     },
     "execution_count": 31,
     "metadata": {},
     "output_type": "execute_result"
    }
   ],
   "source": [
    "import pandas as pd\n",
    "from sklearn.model_selection import train_test_split\n",
    "from sklearn.linear_model import Lasso\n",
    "from sklearn.preprocessing import StandardScaler\n",
    "\n",
    "# Load the dataset\n",
    "file_path = 'rand-dollar.csv'\n",
    "df = pd.read_csv(file_path, index_col=0)\n",
    "\n",
    "# Separate the data into features (X) and target (y)\n",
    "X = df.drop(columns=['ZAR/USD'])\n",
    "y = df['ZAR/USD']\n",
    "\n",
    "# Standardise the entire X matrix\n",
    "scaler = StandardScaler()\n",
    "X_scaled = scaler.fit_transform(X)\n",
    "\n",
    "# Create an 80/20 split between train and test sets\n",
    "X_train, X_test, y_train, y_test = train_test_split(X_scaled, y, test_size=0.2, shuffle=False)\n",
    "\n",
    "# Train a LASSO regression model with alpha=0.01\n",
    "lasso_model = Lasso(alpha=0.01)\n",
    "lasso_model.fit(X_train, y_train)\n",
    "\n",
    "# Retrieve the coefficients of the trained LASSO model\n",
    "lasso_coefficients = lasso_model.coef_\n",
    "\n",
    "# Count the number of coefficients that are exactly zero\n",
    "num_zero_coefficients = (lasso_coefficients == 0).sum()\n",
    "\n",
    "num_zero_coefficients"
   ]
  },
  {
   "cell_type": "code",
   "execution_count": null,
   "id": "666c049d",
   "metadata": {},
   "outputs": [],
   "source": []
  }
 ],
 "metadata": {
  "kernelspec": {
   "display_name": "Python 3 (ipykernel)",
   "language": "python",
   "name": "python3"
  },
  "language_info": {
   "codemirror_mode": {
    "name": "ipython",
    "version": 3
   },
   "file_extension": ".py",
   "mimetype": "text/x-python",
   "name": "python",
   "nbconvert_exporter": "python",
   "pygments_lexer": "ipython3",
   "version": "3.11.3"
  }
 },
 "nbformat": 4,
 "nbformat_minor": 5
}
