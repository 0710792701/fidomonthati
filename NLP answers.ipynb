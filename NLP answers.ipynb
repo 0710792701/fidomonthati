{
 "cells": [
  {
   "cell_type": "code",
   "execution_count": 2,
   "id": "ac61eb85",
   "metadata": {},
   "outputs": [
    {
     "name": "stdout",
     "output_type": "stream",
     "text": [
      "  I/E N/S T/F J/P                                              Essay\n",
      "0   I   S   T   J  My first 4 months at the EDSA have been filled...\n",
      "1   I   N   F   J  I joined the academy being at a crossroads of ...\n",
      "2   E   N   F   J  so far my experience has been positive and i c...\n",
      "3   I   N   F   J  I have been very fortunate to have the opportu...\n",
      "4   I   N   T   J  Looking back to when one got to the academy an...\n"
     ]
    }
   ],
   "source": [
    "import pandas as pd\n",
    "\n",
    "# Load the data\n",
    "df = pd.read_csv('Essay_data.csv')\n",
    "\n",
    "# Display the first few rows of the dataset to check the column names\n",
    "print(df.head())"
   ]
  },
  {
   "cell_type": "code",
   "execution_count": 4,
   "id": "086b55e7",
   "metadata": {},
   "outputs": [
    {
     "name": "stdout",
     "output_type": "stream",
     "text": [
      "<class 'pandas.core.frame.DataFrame'>\n",
      "RangeIndex: 94 entries, 0 to 93\n",
      "Data columns (total 5 columns):\n",
      " #   Column  Non-Null Count  Dtype \n",
      "---  ------  --------------  ----- \n",
      " 0   I/E     94 non-null     object\n",
      " 1   N/S     93 non-null     object\n",
      " 2   T/F     94 non-null     object\n",
      " 3   J/P     93 non-null     object\n",
      " 4   Essay   94 non-null     object\n",
      "dtypes: object(5)\n",
      "memory usage: 3.8+ KB\n"
     ]
    }
   ],
   "source": [
    "df.info()"
   ]
  },
  {
   "cell_type": "code",
   "execution_count": 5,
   "id": "42a9ebfd",
   "metadata": {},
   "outputs": [
    {
     "data": {
      "text/html": [
       "<div>\n",
       "<style scoped>\n",
       "    .dataframe tbody tr th:only-of-type {\n",
       "        vertical-align: middle;\n",
       "    }\n",
       "\n",
       "    .dataframe tbody tr th {\n",
       "        vertical-align: top;\n",
       "    }\n",
       "\n",
       "    .dataframe thead th {\n",
       "        text-align: right;\n",
       "    }\n",
       "</style>\n",
       "<table border=\"1\" class=\"dataframe\">\n",
       "  <thead>\n",
       "    <tr style=\"text-align: right;\">\n",
       "      <th></th>\n",
       "      <th>I/E</th>\n",
       "      <th>N/S</th>\n",
       "      <th>T/F</th>\n",
       "      <th>J/P</th>\n",
       "      <th>Essay</th>\n",
       "    </tr>\n",
       "  </thead>\n",
       "  <tbody>\n",
       "    <tr>\n",
       "      <th>count</th>\n",
       "      <td>94</td>\n",
       "      <td>93</td>\n",
       "      <td>94</td>\n",
       "      <td>93</td>\n",
       "      <td>94</td>\n",
       "    </tr>\n",
       "    <tr>\n",
       "      <th>unique</th>\n",
       "      <td>2</td>\n",
       "      <td>2</td>\n",
       "      <td>2</td>\n",
       "      <td>2</td>\n",
       "      <td>94</td>\n",
       "    </tr>\n",
       "    <tr>\n",
       "      <th>top</th>\n",
       "      <td>I</td>\n",
       "      <td>N</td>\n",
       "      <td>T</td>\n",
       "      <td>J</td>\n",
       "      <td>My first 4 months at the EDSA have been filled...</td>\n",
       "    </tr>\n",
       "    <tr>\n",
       "      <th>freq</th>\n",
       "      <td>66</td>\n",
       "      <td>67</td>\n",
       "      <td>52</td>\n",
       "      <td>57</td>\n",
       "      <td>1</td>\n",
       "    </tr>\n",
       "  </tbody>\n",
       "</table>\n",
       "</div>"
      ],
      "text/plain": [
       "       I/E N/S T/F J/P                                              Essay\n",
       "count   94  93  94  93                                                 94\n",
       "unique   2   2   2   2                                                 94\n",
       "top      I   N   T   J  My first 4 months at the EDSA have been filled...\n",
       "freq    66  67  52  57                                                  1"
      ]
     },
     "execution_count": 5,
     "metadata": {},
     "output_type": "execute_result"
    }
   ],
   "source": [
    "df.describe()"
   ]
  },
  {
   "cell_type": "code",
   "execution_count": 6,
   "id": "0811eb64",
   "metadata": {},
   "outputs": [
    {
     "data": {
      "text/plain": [
       "(5,\n",
       " [('m', 'part'),\n",
       "  ('part', 'time'),\n",
       "  ('time', 'student'),\n",
       "  ('student', 'explore'),\n",
       "  ('explore', 'software')])"
      ]
     },
     "execution_count": 6,
     "metadata": {},
     "output_type": "execute_result"
    }
   ],
   "source": [
    "import pandas as pd\n",
    "import re\n",
    "from nltk.util import ngrams\n",
    "\n",
    "# Load the data\n",
    "df = pd.read_csv('Essay_data.csv')\n",
    "\n",
    "# Clean the data by removing rows with missing values and resetting the index\n",
    "df_clean = df.dropna().reset_index(drop=True)\n",
    "\n",
    "# Define stopwords manually\n",
    "manual_stopwords = {\n",
    "    \"i\", \"me\", \"my\", \"myself\", \"we\", \"our\", \"ours\", \"ourselves\", \"you\", \"your\", \"yours\",\n",
    "    \"yourself\", \"yourselves\", \"he\", \"him\", \"his\", \"himself\", \"she\", \"her\", \"hers\",\n",
    "    \"herself\", \"it\", \"its\", \"itself\", \"they\", \"them\", \"their\", \"theirs\", \"themselves\",\n",
    "    \"what\", \"which\", \"who\", \"whom\", \"this\", \"that\", \"these\", \"those\", \"am\", \"is\", \"are\",\n",
    "    \"was\", \"were\", \"be\", \"been\", \"being\", \"have\", \"has\", \"had\", \"having\", \"do\", \"does\",\n",
    "    \"did\", \"doing\", \"a\", \"an\", \"the\", \"and\", \"but\", \"if\", \"or\", \"because\", \"as\", \"until\",\n",
    "    \"while\", \"of\", \"at\", \"by\", \"for\", \"with\", \"about\", \"against\", \"between\", \"into\",\n",
    "    \"through\", \"during\", \"before\", \"after\", \"above\", \"below\", \"to\", \"from\", \"up\", \"down\",\n",
    "    \"in\", \"out\", \"on\", \"off\", \"over\", \"under\", \"again\", \"further\", \"then\", \"once\", \"here\",\n",
    "    \"there\", \"when\", \"where\", \"why\", \"how\", \"all\", \"any\", \"both\", \"each\", \"few\", \"more\",\n",
    "    \"most\", \"other\", \"some\", \"such\", \"no\", \"nor\", \"not\", \"only\", \"own\", \"same\", \"so\",\n",
    "    \"than\", \"too\", \"very\", \"s\", \"t\", \"can\", \"will\", \"just\", \"don\", \"should\", \"now\"\n",
    "}\n",
    "\n",
    "# Define the sentence\n",
    "sentence = \"I’m a part-time student @explore-software.\"\n",
    "\n",
    "# Steps:\n",
    "# 1. Convert all text to lower case\n",
    "sentence = sentence.lower()\n",
    "\n",
    "# 2. Remove punctuation and replace by a single white space\n",
    "sentence = re.sub(r'[^\\w\\s]', ' ', sentence)\n",
    "\n",
    "# 3. Tokenize and remove stopwords manually\n",
    "word_tokens = sentence.split()\n",
    "filtered_sentence = [word for word in word_tokens if word not in manual_stopwords]\n",
    "\n",
    "# 4. Create bi-grams\n",
    "bigrams = list(ngrams(filtered_sentence, 2))\n",
    "\n",
    "# Output the number of bi-grams\n",
    "num_bigrams = len(bigrams)\n",
    "num_bigrams, bigrams"
   ]
  },
  {
   "cell_type": "code",
   "execution_count": 8,
   "id": "9f824f96",
   "metadata": {},
   "outputs": [
    {
     "data": {
      "text/plain": [
       "'7:3'"
      ]
     },
     "execution_count": 8,
     "metadata": {},
     "output_type": "execute_result"
    }
   ],
   "source": [
    "# Calculate the number of 'N' and 'S' students\n",
    "n_students = df_clean[df_clean['N/S'] == 'N'].shape[0]\n",
    "s_students = df_clean[df_clean['N/S'] == 'S'].shape[0]\n",
    "\n",
    "# Given ratios\n",
    "ratios = {\n",
    "    \"3:7\": 3 / 7,\n",
    "    \"7:3\": 7 / 3,\n",
    "    \"4:6\": 4 / 6,\n",
    "    \"6:4\": 6 / 4\n",
    "}\n",
    "\n",
    "# Actual ratio calculated\n",
    "actual_ratio = n_students / s_students\n",
    "\n",
    "# Find the closest ratio\n",
    "closest_ratio = min(ratios, key=lambda k: abs(ratios[k] - actual_ratio))\n",
    "closest_ratio\n"
   ]
  },
  {
   "cell_type": "code",
   "execution_count": 9,
   "id": "48c0f0fd",
   "metadata": {},
   "outputs": [
    {
     "data": {
      "text/plain": [
       "'4'"
      ]
     },
     "execution_count": 9,
     "metadata": {},
     "output_type": "execute_result"
    }
   ],
   "source": [
    "# Function to remove punctuation and convert to lower case\n",
    "def clean_text(text):\n",
    "    text = text.lower()\n",
    "    text = re.sub(r'[^\\w\\s]', '', text)\n",
    "    return text\n",
    "\n",
    "# Apply the function to the 'Essay' column\n",
    "df_clean['Cleaned_Essay'] = df_clean['Essay'].apply(clean_text)\n",
    "\n",
    "# Get the 10th character in the first essay\n",
    "tenth_character = df_clean['Cleaned_Essay'].iloc[0][9]\n",
    "tenth_character\n"
   ]
  },
  {
   "cell_type": "code",
   "execution_count": 13,
   "id": "e4ecdebc",
   "metadata": {},
   "outputs": [
    {
     "data": {
      "text/plain": [
       "439"
      ]
     },
     "execution_count": 13,
     "metadata": {},
     "output_type": "execute_result"
    }
   ],
   "source": [
    "# Function to clean and tokenize the text\n",
    "def clean_and_tokenize(text):\n",
    "    text = text.lower()\n",
    "    text = re.sub(r'[^\\w\\s]', '', text)\n",
    "    return text.split()\n",
    "\n",
    "# Apply the function to the 'Essay' column\n",
    "df_clean['Tokens'] = df_clean['Essay'].apply(clean_and_tokenize)\n",
    "\n",
    "# Count the number of tokens in the 17th essay\n",
    "num_tokens_17th_essay_corrected = len(df_clean['Tokens'].iloc[16])\n",
    "num_tokens_17th_essay_corrected"
   ]
  },
  {
   "cell_type": "code",
   "execution_count": 14,
   "id": "e36ccbde",
   "metadata": {},
   "outputs": [
    {
     "name": "stderr",
     "output_type": "stream",
     "text": [
      "[nltk_data] Downloading package punkt to\n",
      "[nltk_data]     C:\\Users\\Onthatile\\AppData\\Roaming\\nltk_data...\n",
      "[nltk_data]   Unzipping tokenizers\\punkt.zip.\n"
     ]
    },
    {
     "name": "stdout",
     "output_type": "stream",
     "text": [
      "experi\n"
     ]
    }
   ],
   "source": [
    "import nltk\n",
    "from nltk.stem import SnowballStemmer\n",
    "\n",
    "# Ensure you have the necessary NLTK data files\n",
    "nltk.download('punkt')\n",
    "\n",
    "# Initialize the SnowballStemmer\n",
    "stemmer = SnowballStemmer(\"english\")\n",
    "\n",
    "# Word to stem\n",
    "word = \"experiences\"\n",
    "\n",
    "# Stem the word\n",
    "stemmed_word = stemmer.stem(word)\n",
    "print(stemmed_word)\n"
   ]
  },
  {
   "cell_type": "code",
   "execution_count": 15,
   "id": "a0482d71",
   "metadata": {},
   "outputs": [
    {
     "data": {
      "text/plain": [
       "'selfconfidence'"
      ]
     },
     "execution_count": 15,
     "metadata": {},
     "output_type": "execute_result"
    }
   ],
   "source": [
    "import pandas as pd\n",
    "import re\n",
    "\n",
    "# Load the data\n",
    "df = pd.read_csv('Essay_data.csv')\n",
    "\n",
    "# Clean the data by removing rows with missing values and resetting the index\n",
    "df_clean = df.dropna().reset_index(drop=True)\n",
    "\n",
    "# Define stopwords manually\n",
    "manual_stopwords = {\n",
    "    \"i\", \"me\", \"my\", \"myself\", \"we\", \"our\", \"ours\", \"ourselves\", \"you\", \"your\", \"yours\",\n",
    "    \"yourself\", \"yourselves\", \"he\", \"him\", \"his\", \"himself\", \"she\", \"her\", \"hers\",\n",
    "    \"herself\", \"it\", \"its\", \"itself\", \"they\", \"them\", \"their\", \"theirs\", \"themselves\",\n",
    "    \"what\", \"which\", \"who\", \"whom\", \"this\", \"that\", \"these\", \"those\", \"am\", \"is\", \"are\",\n",
    "    \"was\", \"were\", \"be\", \"been\", \"being\", \"have\", \"has\", \"had\", \"having\", \"do\", \"does\",\n",
    "    \"did\", \"doing\", \"a\", \"an\", \"the\", \"and\", \"but\", \"if\", \"or\", \"because\", \"as\", \"until\",\n",
    "    \"while\", \"of\", \"at\", \"by\", \"for\", \"with\", \"about\", \"against\", \"between\", \"into\",\n",
    "    \"through\", \"during\", \"before\", \"after\", \"above\", \"below\", \"to\", \"from\", \"up\", \"down\",\n",
    "    \"in\", \"out\", \"on\", \"off\", \"over\", \"under\", \"again\", \"further\", \"then\", \"once\", \"here\",\n",
    "    \"there\", \"when\", \"where\", \"why\", \"how\", \"all\", \"any\", \"both\", \"each\", \"few\", \"more\",\n",
    "    \"most\", \"other\", \"some\", \"such\", \"no\", \"nor\", \"not\", \"only\", \"own\", \"same\", \"so\",\n",
    "    \"than\", \"too\", \"very\", \"s\", \"t\", \"can\", \"will\", \"just\", \"don\", \"should\", \"now\"\n",
    "}\n",
    "\n",
    "# Function to clean and tokenize the text\n",
    "def clean_and_tokenize(text):\n",
    "    text = text.lower()\n",
    "    text = re.sub(r'[^\\w\\s]', '', text)\n",
    "    tokens = text.split()\n",
    "    return [token for token in tokens if token not in manual_stopwords]\n",
    "\n",
    "# Apply the function to the 'Essay' column\n",
    "df_clean['Tokens_No_Stopwords'] = df_clean['Essay'].apply(clean_and_tokenize)\n",
    "\n",
    "# Get the 24th token in the 81st essay (index 80)\n",
    "token_24th_in_81st_essay = df_clean['Tokens_No_Stopwords'].iloc[80][23]  # Indexing starts at 0\n",
    "token_24th_in_81st_essay"
   ]
  },
  {
   "cell_type": "code",
   "execution_count": 17,
   "id": "9e415f9f",
   "metadata": {},
   "outputs": [
    {
     "name": "stdout",
     "output_type": "stream",
     "text": [
      "Number of unique words: 3409\n"
     ]
    }
   ],
   "source": [
    "import pandas as pd\n",
    "import re\n",
    "\n",
    "# Load the data\n",
    "df = pd.read_csv('Essay_data.csv')\n",
    "\n",
    "# Clean the data by removing rows with missing values and resetting the index\n",
    "df_clean = df.dropna().reset_index(drop=True)\n",
    "\n",
    "# Define stopwords manually\n",
    "manual_stopwords = {\n",
    "    \"i\", \"me\", \"my\", \"myself\", \"we\", \"our\", \"ours\", \"ourselves\", \"you\", \"your\", \"yours\",\n",
    "    \"yourself\", \"yourselves\", \"he\", \"him\", \"his\", \"himself\", \"she\", \"her\", \"hers\",\n",
    "    \"herself\", \"it\", \"its\", \"itself\", \"they\", \"them\", \"their\", \"theirs\", \"themselves\",\n",
    "    \"what\", \"which\", \"who\", \"whom\", \"this\", \"that\", \"these\", \"those\", \"am\", \"is\", \"are\",\n",
    "    \"was\", \"were\", \"be\", \"been\", \"being\", \"have\", \"has\", \"had\", \"having\", \"do\", \"does\",\n",
    "    \"did\", \"doing\", \"a\", \"an\", \"the\", \"and\", \"but\", \"if\", \"or\", \"because\", \"as\", \"until\",\n",
    "    \"while\", \"of\", \"at\", \"by\", \"for\", \"with\", \"about\", \"against\", \"between\", \"into\",\n",
    "    \"through\", \"during\", \"before\", \"after\", \"above\", \"below\", \"to\", \"from\", \"up\", \"down\",\n",
    "    \"in\", \"out\", \"on\", \"off\", \"over\", \"under\", \"again\", \"further\", \"then\", \"once\", \"here\",\n",
    "    \"there\", \"when\", \"where\", \"why\", \"how\", \"all\", \"any\", \"both\", \"each\", \"few\", \"more\",\n",
    "    \"most\", \"other\", \"some\", \"such\", \"no\", \"nor\", \"not\", \"only\", \"own\", \"same\", \"so\",\n",
    "    \"than\", \"too\", \"very\", \"s\", \"t\", \"can\", \"will\", \"just\", \"don\", \"should\", \"now\"\n",
    "}\n",
    "\n",
    "# Function to clean and tokenize the text\n",
    "def clean_and_tokenize(text):\n",
    "    text = text.lower()\n",
    "    text = re.sub(r'[^\\w\\s]', '', text)\n",
    "    tokens = text.split()\n",
    "    return [token for token in tokens if token not in manual_stopwords]\n",
    "\n",
    "# Apply the function to the 'Essay' column\n",
    "df_clean['Tokens_No_Stopwords'] = df_clean['Essay'].apply(clean_and_tokenize)\n",
    "\n",
    "# Combine all tokens from all essays into one list\n",
    "all_tokens_no_stopwords = [token for tokens in df_clean['Tokens_No_Stopwords'] for token in tokens]\n",
    "\n",
    "# Find the number of unique words\n",
    "unique_words = set(all_tokens_no_stopwords)\n",
    "num_unique_words = len(unique_words)\n",
    "\n",
    "print(\"Number of unique words:\", num_unique_words)"
   ]
  },
  {
   "cell_type": "code",
   "execution_count": 18,
   "id": "6baa6402",
   "metadata": {},
   "outputs": [
    {
     "name": "stdout",
     "output_type": "stream",
     "text": [
      "Number of times 'time' was mentioned in the 56th essay: 2\n"
     ]
    }
   ],
   "source": [
    "import pandas as pd\n",
    "import re\n",
    "from sklearn.feature_extraction.text import CountVectorizer\n",
    "\n",
    "# Load the data\n",
    "df = pd.read_csv('Essay_data.csv')\n",
    "\n",
    "# Clean the data by removing rows with missing values and resetting the index\n",
    "df_clean = df.dropna().reset_index(drop=True)\n",
    "\n",
    "# Function to clean the text\n",
    "def clean_text(text):\n",
    "    text = text.lower()\n",
    "    text = re.sub(r'[^\\w\\s]', '', text)\n",
    "    return text\n",
    "\n",
    "# Apply the function to the 'Essay' column\n",
    "df_clean['Cleaned_Essay'] = df_clean['Essay'].apply(clean_text)\n",
    "\n",
    "# Initialize the CountVectorizer\n",
    "vectorizer = CountVectorizer()\n",
    "\n",
    "# Apply the vectorizer to the essays\n",
    "X = vectorizer.fit_transform(df_clean['Cleaned_Essay'])\n",
    "\n",
    "# Convert the result to a DataFrame for easier analysis\n",
    "bag_of_words = pd.DataFrame(X.toarray(), columns=vectorizer.get_feature_names_out())\n",
    "\n",
    "# Find the count of the word 'time' in the 56th essay (index 55)\n",
    "count_time_56th_essay = bag_of_words.loc[55, 'time'] if 'time' in bag_of_words.columns else 0\n",
    "\n",
    "print(\"Number of times 'time' was mentioned in the 56th essay:\", count_time_56th_essay)"
   ]
  },
  {
   "cell_type": "code",
   "execution_count": 19,
   "id": "c96a56be",
   "metadata": {},
   "outputs": [
    {
     "name": "stdout",
     "output_type": "stream",
     "text": [
      "Percentage of words that appear at least twice: 94.92199890423599\n"
     ]
    }
   ],
   "source": [
    "import pandas as pd\n",
    "import re\n",
    "from sklearn.feature_extraction.text import CountVectorizer\n",
    "\n",
    "# Load the data\n",
    "df = pd.read_csv('Essay_data.csv')\n",
    "\n",
    "# Clean the data by removing rows with missing values and resetting the index\n",
    "df_clean = df.dropna().reset_index(drop=True)\n",
    "\n",
    "# Function to clean the text\n",
    "def clean_text(text):\n",
    "    text = text.lower()\n",
    "    text = re.sub(r'[^\\w\\s]', '', text)\n",
    "    return text\n",
    "\n",
    "# Apply the function to the 'Essay' column\n",
    "df_clean['Cleaned_Essay'] = df_clean['Essay'].apply(clean_text)\n",
    "\n",
    "# Initialize the CountVectorizer\n",
    "vectorizer = CountVectorizer()\n",
    "\n",
    "# Apply the vectorizer to the essays\n",
    "X = vectorizer.fit_transform(df_clean['Cleaned_Essay'])\n",
    "\n",
    "# Convert the result to a DataFrame for easier analysis\n",
    "bag_of_words = pd.DataFrame(X.toarray(), columns=vectorizer.get_feature_names_out())\n",
    "\n",
    "# Calculate the total number of words in all essays\n",
    "total_words = bag_of_words.sum().sum()\n",
    "\n",
    "# Calculate the number of words that appear at least twice\n",
    "words_at_least_twice = bag_of_words.loc[:, (bag_of_words.sum(axis=0) >= 2)].sum().sum()\n",
    "\n",
    "# Calculate the percentage\n",
    "percentage_at_least_twice = (words_at_least_twice / total_words) * 100\n",
    "\n",
    "print(\"Percentage of words that appear at least twice:\", percentage_at_least_twice)"
   ]
  },
  {
   "cell_type": "code",
   "execution_count": 20,
   "id": "fa5bd8ba",
   "metadata": {},
   "outputs": [
    {
     "name": "stdout",
     "output_type": "stream",
     "text": [
      "The most commonly mentioned word by ENFJ personalities is 'team' with 33 mentions.\n"
     ]
    }
   ],
   "source": [
    "import pandas as pd\n",
    "import re\n",
    "from sklearn.feature_extraction.text import CountVectorizer\n",
    "\n",
    "# Load the data\n",
    "df = pd.read_csv('Essay_data.csv')\n",
    "\n",
    "# Clean the data by removing rows with missing values and resetting the index\n",
    "df_clean = df.dropna().reset_index(drop=True)\n",
    "\n",
    "# Define stopwords manually\n",
    "manual_stopwords = {\n",
    "    \"i\", \"me\", \"my\", \"myself\", \"we\", \"our\", \"ours\", \"ourselves\", \"you\", \"your\", \"yours\",\n",
    "    \"yourself\", \"yourselves\", \"he\", \"him\", \"his\", \"himself\", \"she\", \"her\", \"hers\",\n",
    "    \"herself\", \"it\", \"its\", \"itself\", \"they\", \"them\", \"their\", \"theirs\", \"themselves\",\n",
    "    \"what\", \"which\", \"who\", \"whom\", \"this\", \"that\", \"these\", \"those\", \"am\", \"is\", \"are\",\n",
    "    \"was\", \"were\", \"be\", \"been\", \"being\", \"have\", \"has\", \"had\", \"having\", \"do\", \"does\",\n",
    "    \"did\", \"doing\", \"a\", \"an\", \"the\", \"and\", \"but\", \"if\", \"or\", \"because\", \"as\", \"until\",\n",
    "    \"while\", \"of\", \"at\", \"by\", \"for\", \"with\", \"about\", \"against\", \"between\", \"into\",\n",
    "    \"through\", \"during\", \"before\", \"after\", \"above\", \"below\", \"to\", \"from\", \"up\", \"down\",\n",
    "    \"in\", \"out\", \"on\", \"off\", \"over\", \"under\", \"again\", \"further\", \"then\", \"once\", \"here\",\n",
    "    \"there\", \"when\", \"where\", \"why\", \"how\", \"all\", \"any\", \"both\", \"each\", \"few\", \"more\",\n",
    "    \"most\", \"other\", \"some\", \"such\", \"no\", \"nor\", \"not\", \"only\", \"own\", \"same\", \"so\",\n",
    "    \"than\", \"too\", \"very\", \"s\", \"t\", \"can\", \"will\", \"just\", \"don\", \"should\", \"now\"\n",
    "}\n",
    "\n",
    "# Function to clean and tokenize the text\n",
    "def clean_and_tokenize(text):\n",
    "    text = text.lower()\n",
    "    text = re.sub(r'[^\\w\\s]', '', text)\n",
    "    tokens = text.split()\n",
    "    return [token for token in tokens if token not in manual_stopwords]\n",
    "\n",
    "# Apply the function to the 'Essay' column\n",
    "df_clean['Tokens_No_Stopwords'] = df_clean['Essay'].apply(clean_and_tokenize)\n",
    "\n",
    "# Filter the essays for ENFJ personalities\n",
    "enfj_essays = df_clean[\n",
    "    (df_clean['I/E'] == 'E') & \n",
    "    (df_clean['N/S'] == 'N') & \n",
    "    (df_clean['T/F'] == 'F') & \n",
    "    (df_clean['J/P'] == 'J')\n",
    "]\n",
    "\n",
    "# Combine all tokens from ENFJ essays into one list\n",
    "enfj_tokens = [token for tokens in enfj_essays['Tokens_No_Stopwords'] for token in tokens]\n",
    "\n",
    "# Calculate the frequency of each word\n",
    "word_freq = pd.Series(enfj_tokens).value_counts()\n",
    "\n",
    "# Find the most commonly mentioned word\n",
    "most_common_word = word_freq.idxmax()\n",
    "most_common_word, word_freq.max()\n",
    "\n",
    "print(f\"The most commonly mentioned word by ENFJ personalities is '{most_common_word}' with {word_freq.max()} mentions.\")"
   ]
  },
  {
   "cell_type": "code",
   "execution_count": 21,
   "id": "bb2de103",
   "metadata": {},
   "outputs": [
    {
     "name": "stdout",
     "output_type": "stream",
     "text": [
      "The 109th bi-gram in the 70th essay is: ('quite', 'well')\n"
     ]
    }
   ],
   "source": [
    "import pandas as pd\n",
    "import re\n",
    "from nltk.util import ngrams\n",
    "\n",
    "# Load the data\n",
    "df = pd.read_csv('Essay_data.csv')\n",
    "\n",
    "# Clean the data by removing rows with missing values and resetting the index\n",
    "df_clean = df.dropna().reset_index(drop=True)\n",
    "\n",
    "# Define stopwords manually\n",
    "manual_stopwords = {\n",
    "    \"i\", \"me\", \"my\", \"myself\", \"we\", \"our\", \"ours\", \"ourselves\", \"you\", \"your\", \"yours\",\n",
    "    \"yourself\", \"yourselves\", \"he\", \"him\", \"his\", \"himself\", \"she\", \"her\", \"hers\",\n",
    "    \"herself\", \"it\", \"its\", \"itself\", \"they\", \"them\", \"their\", \"theirs\", \"themselves\",\n",
    "    \"what\", \"which\", \"who\", \"whom\", \"this\", \"that\", \"these\", \"those\", \"am\", \"is\", \"are\",\n",
    "    \"was\", \"were\", \"be\", \"been\", \"being\", \"have\", \"has\", \"had\", \"having\", \"do\", \"does\",\n",
    "    \"did\", \"doing\", \"a\", \"an\", \"the\", \"and\", \"but\", \"if\", \"or\", \"because\", \"as\", \"until\",\n",
    "    \"while\", \"of\", \"at\", \"by\", \"for\", \"with\", \"about\", \"against\", \"between\", \"into\",\n",
    "    \"through\", \"during\", \"before\", \"after\", \"above\", \"below\", \"to\", \"from\", \"up\", \"down\",\n",
    "    \"in\", \"out\", \"on\", \"off\", \"over\", \"under\", \"again\", \"further\", \"then\", \"once\", \"here\",\n",
    "    \"there\", \"when\", \"where\", \"why\", \"how\", \"all\", \"any\", \"both\", \"each\", \"few\", \"more\",\n",
    "    \"most\", \"other\", \"some\", \"such\", \"no\", \"nor\", \"not\", \"only\", \"own\", \"same\", \"so\",\n",
    "    \"than\", \"too\", \"very\", \"s\", \"t\", \"can\", \"will\", \"just\", \"don\", \"should\", \"now\"\n",
    "}\n",
    "\n",
    "# Function to clean and tokenize the text\n",
    "def clean_and_tokenize(text):\n",
    "    text = text.lower()\n",
    "    text = re.sub(r'[^\\w\\s]', '', text)\n",
    "    tokens = text.split()\n",
    "    return [token for token in tokens if token not in manual_stopwords]\n",
    "\n",
    "# Apply the function to the 'Essay' column\n",
    "df_clean['Tokens_No_Stopwords'] = df_clean['Essay'].apply(clean_and_tokenize)\n",
    "\n",
    "# Function to create bi-grams from tokens\n",
    "def create_bigrams(tokens):\n",
    "    return list(ngrams(tokens, 2))\n",
    "\n",
    "# Apply the function to the 'Tokens_No_Stopwords' column to create a new column with bi-grams\n",
    "df_clean['Bigrams'] = df_clean['Tokens_No_Stopwords'].apply(create_bigrams)\n",
    "\n",
    "# Get the 109th bi-gram in the 70th essay (index 69)\n",
    "bigram_109_in_70th_essay = df_clean['Bigrams'].iloc[69][108]  # Indexing starts at 0\n",
    "\n",
    "print(f\"The 109th bi-gram in the 70th essay is: {bigram_109_in_70th_essay}\")"
   ]
  },
  {
   "cell_type": "code",
   "execution_count": null,
   "id": "55bd3c89",
   "metadata": {},
   "outputs": [],
   "source": []
  }
 ],
 "metadata": {
  "kernelspec": {
   "display_name": "Python 3 (ipykernel)",
   "language": "python",
   "name": "python3"
  },
  "language_info": {
   "codemirror_mode": {
    "name": "ipython",
    "version": 3
   },
   "file_extension": ".py",
   "mimetype": "text/x-python",
   "name": "python",
   "nbconvert_exporter": "python",
   "pygments_lexer": "ipython3",
   "version": "3.11.3"
  }
 },
 "nbformat": 4,
 "nbformat_minor": 5
}
